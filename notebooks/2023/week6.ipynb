{
  "nbformat": 4,
  "nbformat_minor": 0,
  "metadata": {
    "colab": {
      "provenance": []
    },
    "kernelspec": {
      "name": "python3",
      "display_name": "Python 3"
    },
    "language_info": {
      "name": "python"
    }
  },
  "cells": [
    {
      "cell_type": "markdown",
      "source": [
        "# List comprehensions"
      ],
      "metadata": {
        "id": "c4I4iuNv2U4U"
      }
    },
    {
      "cell_type": "code",
      "execution_count": 1,
      "metadata": {
        "id": "QiLwXWoF1H1b"
      },
      "outputs": [],
      "source": [
        "l = [n for n in range(20)]"
      ]
    },
    {
      "cell_type": "code",
      "source": [
        "l"
      ],
      "metadata": {
        "colab": {
          "base_uri": "https://localhost:8080/"
        },
        "id": "3gxrblO-23d7",
        "outputId": "bf09bf3c-0fa0-4445-d9d9-7a1940398be4"
      },
      "execution_count": 2,
      "outputs": [
        {
          "output_type": "execute_result",
          "data": {
            "text/plain": [
              "[0, 1, 2, 3, 4, 5, 6, 7, 8, 9, 10, 11, 12, 13, 14, 15, 16, 17, 18, 19]"
            ]
          },
          "metadata": {},
          "execution_count": 2
        }
      ]
    },
    {
      "cell_type": "code",
      "source": [
        "[n*2 for n in range(20)]"
      ],
      "metadata": {
        "colab": {
          "base_uri": "https://localhost:8080/"
        },
        "id": "mIgufEWE2_hZ",
        "outputId": "ad3b7bf0-1042-4b69-cee9-8e8c643d2a5c"
      },
      "execution_count": 3,
      "outputs": [
        {
          "output_type": "execute_result",
          "data": {
            "text/plain": [
              "[0, 2, 4, 6, 8, 10, 12, 14, 16, 18, 20, 22, 24, 26, 28, 30, 32, 34, 36, 38]"
            ]
          },
          "metadata": {},
          "execution_count": 3
        }
      ]
    },
    {
      "cell_type": "code",
      "source": [
        "l = []\n",
        "for n in range(20):\n",
        "  l.append(n * 2)"
      ],
      "metadata": {
        "id": "STKsCObP3VqE"
      },
      "execution_count": 4,
      "outputs": []
    },
    {
      "cell_type": "code",
      "source": [
        "l"
      ],
      "metadata": {
        "colab": {
          "base_uri": "https://localhost:8080/"
        },
        "id": "JVeaqjrp3jC8",
        "outputId": "c8753863-e86d-4e37-ce69-5511f2cf3d56"
      },
      "execution_count": 5,
      "outputs": [
        {
          "output_type": "execute_result",
          "data": {
            "text/plain": [
              "[0, 2, 4, 6, 8, 10, 12, 14, 16, 18, 20, 22, 24, 26, 28, 30, 32, 34, 36, 38]"
            ]
          },
          "metadata": {},
          "execution_count": 5
        }
      ]
    },
    {
      "cell_type": "code",
      "source": [
        "[n*3-2 for n in range(10, 20)]"
      ],
      "metadata": {
        "colab": {
          "base_uri": "https://localhost:8080/"
        },
        "id": "QbuAZMt83jny",
        "outputId": "4be94e79-bdd9-401f-87e7-0f48df4a3dd6"
      },
      "execution_count": 8,
      "outputs": [
        {
          "output_type": "execute_result",
          "data": {
            "text/plain": [
              "[28, 31, 34, 37, 40, 43, 46, 49, 52, 55]"
            ]
          },
          "metadata": {},
          "execution_count": 8
        }
      ]
    },
    {
      "cell_type": "code",
      "source": [
        "text = 'a string of characters'\n",
        "l_text = [ch for ch in text]\n",
        "l_text"
      ],
      "metadata": {
        "colab": {
          "base_uri": "https://localhost:8080/"
        },
        "id": "WneP7ZUI37zU",
        "outputId": "16da72bd-cea9-4917-804f-dc7c475541ac"
      },
      "execution_count": 10,
      "outputs": [
        {
          "output_type": "execute_result",
          "data": {
            "text/plain": [
              "['a',\n",
              " ' ',\n",
              " 's',\n",
              " 't',\n",
              " 'r',\n",
              " 'i',\n",
              " 'n',\n",
              " 'g',\n",
              " ' ',\n",
              " 'o',\n",
              " 'f',\n",
              " ' ',\n",
              " 'c',\n",
              " 'h',\n",
              " 'a',\n",
              " 'r',\n",
              " 'a',\n",
              " 'c',\n",
              " 't',\n",
              " 'e',\n",
              " 'r',\n",
              " 's']"
            ]
          },
          "metadata": {},
          "execution_count": 10
        }
      ]
    },
    {
      "cell_type": "code",
      "source": [
        "a = [1, 4, 5, 7, 7, 8]\n",
        "b = ['a', 'b', 'z', 'c', 'd', 'f']\n",
        "\n",
        "res = [b[i] * a[i] for i in range(len(a))]\n",
        "res"
      ],
      "metadata": {
        "colab": {
          "base_uri": "https://localhost:8080/"
        },
        "id": "FgzOltje4QdL",
        "outputId": "1c8986d5-e857-455d-94b4-3e992e63370d"
      },
      "execution_count": 14,
      "outputs": [
        {
          "output_type": "execute_result",
          "data": {
            "text/plain": [
              "['a', 'bbbb', 'zzzzz', 'ccccccc', 'ddddddd', 'ffffffff']"
            ]
          },
          "metadata": {},
          "execution_count": 14
        }
      ]
    },
    {
      "cell_type": "code",
      "source": [
        "v = 'a'\n",
        "# make 'aaaaa'\n",
        "v * 5"
      ],
      "metadata": {
        "colab": {
          "base_uri": "https://localhost:8080/",
          "height": 35
        },
        "id": "TM_EkvyS5A29",
        "outputId": "947041ce-8a1e-4c73-a059-f8e3c45d36ad"
      },
      "execution_count": 12,
      "outputs": [
        {
          "output_type": "execute_result",
          "data": {
            "text/plain": [
              "'aaaaa'"
            ],
            "application/vnd.google.colaboratory.intrinsic+json": {
              "type": "string"
            }
          },
          "metadata": {},
          "execution_count": 12
        }
      ]
    },
    {
      "cell_type": "code",
      "source": [
        "[n for n in range(20)]"
      ],
      "metadata": {
        "colab": {
          "base_uri": "https://localhost:8080/"
        },
        "id": "lSMXtYOl5KHf",
        "outputId": "b0a4cb13-7ee7-4cfa-e1d7-13e26c7dcf65"
      },
      "execution_count": 15,
      "outputs": [
        {
          "output_type": "execute_result",
          "data": {
            "text/plain": [
              "[0, 1, 2, 3, 4, 5, 6, 7, 8, 9, 10, 11, 12, 13, 14, 15, 16, 17, 18, 19]"
            ]
          },
          "metadata": {},
          "execution_count": 15
        }
      ]
    },
    {
      "cell_type": "code",
      "source": [
        "[n for n in range(20) if n % 2 == 0]"
      ],
      "metadata": {
        "colab": {
          "base_uri": "https://localhost:8080/"
        },
        "id": "YcWaxnE86Z_6",
        "outputId": "a5a13fc2-556e-4656-bd65-29ca3d2da3dc"
      },
      "execution_count": 17,
      "outputs": [
        {
          "output_type": "execute_result",
          "data": {
            "text/plain": [
              "[0, 2, 4, 6, 8, 10, 12, 14, 16, 18]"
            ]
          },
          "metadata": {},
          "execution_count": 17
        }
      ]
    },
    {
      "cell_type": "code",
      "source": [
        "[n for n in range(20) if n % 2]"
      ],
      "metadata": {
        "colab": {
          "base_uri": "https://localhost:8080/"
        },
        "id": "U70iDMIK6hMu",
        "outputId": "ad6cd8d1-4e1c-41a0-c87f-f8af144aabf0"
      },
      "execution_count": 18,
      "outputs": [
        {
          "output_type": "execute_result",
          "data": {
            "text/plain": [
              "[1, 3, 5, 7, 9, 11, 13, 15, 17, 19]"
            ]
          },
          "metadata": {},
          "execution_count": 18
        }
      ]
    },
    {
      "cell_type": "code",
      "source": [
        "bool(6 % 2)"
      ],
      "metadata": {
        "colab": {
          "base_uri": "https://localhost:8080/"
        },
        "id": "QoOYTb726wbT",
        "outputId": "96b0c6eb-e1af-453f-a725-d620d90cf1bb"
      },
      "execution_count": 23,
      "outputs": [
        {
          "output_type": "execute_result",
          "data": {
            "text/plain": [
              "False"
            ]
          },
          "metadata": {},
          "execution_count": 23
        }
      ]
    },
    {
      "cell_type": "code",
      "source": [
        "[n for n in range(20) if n % 2 == 0 if n % 3 == 0]"
      ],
      "metadata": {
        "colab": {
          "base_uri": "https://localhost:8080/"
        },
        "id": "k05IczlL7Qin",
        "outputId": "9cc6cfcf-a93d-46e5-f5ea-7fb842e2beda"
      },
      "execution_count": 25,
      "outputs": [
        {
          "output_type": "execute_result",
          "data": {
            "text/plain": [
              "[0, 6, 12, 18]"
            ]
          },
          "metadata": {},
          "execution_count": 25
        }
      ]
    },
    {
      "cell_type": "code",
      "source": [
        "[n if n % 2 == 0 else n / 10 for n in range(20)]"
      ],
      "metadata": {
        "colab": {
          "base_uri": "https://localhost:8080/"
        },
        "id": "5sHLR-yM7yJc",
        "outputId": "b2b858b2-5fdb-4bf5-e6cc-b06415d2a669"
      },
      "execution_count": 26,
      "outputs": [
        {
          "output_type": "execute_result",
          "data": {
            "text/plain": [
              "[0,\n",
              " 0.1,\n",
              " 2,\n",
              " 0.3,\n",
              " 4,\n",
              " 0.5,\n",
              " 6,\n",
              " 0.7,\n",
              " 8,\n",
              " 0.9,\n",
              " 10,\n",
              " 1.1,\n",
              " 12,\n",
              " 1.3,\n",
              " 14,\n",
              " 1.5,\n",
              " 16,\n",
              " 1.7,\n",
              " 18,\n",
              " 1.9]"
            ]
          },
          "metadata": {},
          "execution_count": 26
        }
      ]
    },
    {
      "cell_type": "code",
      "source": [
        "matrix = [[i for i in range(10)] for j in range(6)]\n",
        "matrix"
      ],
      "metadata": {
        "colab": {
          "base_uri": "https://localhost:8080/"
        },
        "id": "ZB-MAxHn8ZMt",
        "outputId": "d0d65efe-ad00-40c2-ca0c-7ca009f30103"
      },
      "execution_count": 28,
      "outputs": [
        {
          "output_type": "execute_result",
          "data": {
            "text/plain": [
              "[[0, 1, 2, 3, 4, 5, 6, 7, 8, 9],\n",
              " [0, 1, 2, 3, 4, 5, 6, 7, 8, 9],\n",
              " [0, 1, 2, 3, 4, 5, 6, 7, 8, 9],\n",
              " [0, 1, 2, 3, 4, 5, 6, 7, 8, 9],\n",
              " [0, 1, 2, 3, 4, 5, 6, 7, 8, 9],\n",
              " [0, 1, 2, 3, 4, 5, 6, 7, 8, 9]]"
            ]
          },
          "metadata": {},
          "execution_count": 28
        }
      ]
    },
    {
      "cell_type": "code",
      "source": [
        "matrix[2][3]"
      ],
      "metadata": {
        "colab": {
          "base_uri": "https://localhost:8080/"
        },
        "id": "PtsNiK9K9GXF",
        "outputId": "47643be7-a290-4b8e-ce33-9f715dd945f1"
      },
      "execution_count": 29,
      "outputs": [
        {
          "output_type": "execute_result",
          "data": {
            "text/plain": [
              "3"
            ]
          },
          "metadata": {},
          "execution_count": 29
        }
      ]
    },
    {
      "cell_type": "code",
      "source": [
        "a = [[i for i in range(1000)] for j in range(10000)]"
      ],
      "metadata": {
        "id": "70G5aG-A9R6W"
      },
      "execution_count": 32,
      "outputs": []
    },
    {
      "cell_type": "markdown",
      "source": [
        "# Tuple"
      ],
      "metadata": {
        "id": "fWd5iJTk-ebP"
      }
    },
    {
      "cell_type": "code",
      "source": [
        "a = (1, 2, 3, 4)\n",
        "type(a)"
      ],
      "metadata": {
        "colab": {
          "base_uri": "https://localhost:8080/"
        },
        "id": "dbIyFxfp972e",
        "outputId": "38edc2a2-d168-46e7-8c4a-ebc25fa14046"
      },
      "execution_count": 33,
      "outputs": [
        {
          "output_type": "execute_result",
          "data": {
            "text/plain": [
              "tuple"
            ]
          },
          "metadata": {},
          "execution_count": 33
        }
      ]
    },
    {
      "cell_type": "code",
      "source": [
        "a[0]"
      ],
      "metadata": {
        "colab": {
          "base_uri": "https://localhost:8080/"
        },
        "id": "tlWTIsC8-n5o",
        "outputId": "e8fe1e4d-a09b-419f-8510-bdad9489ebb8"
      },
      "execution_count": 34,
      "outputs": [
        {
          "output_type": "execute_result",
          "data": {
            "text/plain": [
              "1"
            ]
          },
          "metadata": {},
          "execution_count": 34
        }
      ]
    },
    {
      "cell_type": "code",
      "source": [
        "len(a)"
      ],
      "metadata": {
        "colab": {
          "base_uri": "https://localhost:8080/"
        },
        "id": "5UWHnNE0-yYL",
        "outputId": "dcb9bd0f-8013-4699-d68d-b106539c891e"
      },
      "execution_count": 35,
      "outputs": [
        {
          "output_type": "execute_result",
          "data": {
            "text/plain": [
              "4"
            ]
          },
          "metadata": {},
          "execution_count": 35
        }
      ]
    },
    {
      "cell_type": "code",
      "source": [
        "a[-1]"
      ],
      "metadata": {
        "colab": {
          "base_uri": "https://localhost:8080/"
        },
        "id": "gxRazMYO-0vP",
        "outputId": "99f65dea-436e-4e05-fb57-d3410a9c7d55"
      },
      "execution_count": 36,
      "outputs": [
        {
          "output_type": "execute_result",
          "data": {
            "text/plain": [
              "4"
            ]
          },
          "metadata": {},
          "execution_count": 36
        }
      ]
    },
    {
      "cell_type": "code",
      "source": [
        "a[1:]"
      ],
      "metadata": {
        "colab": {
          "base_uri": "https://localhost:8080/"
        },
        "id": "XEvSAPGQ-4PH",
        "outputId": "8c7d6319-9e58-448f-aeca-772cdc67298b"
      },
      "execution_count": 37,
      "outputs": [
        {
          "output_type": "execute_result",
          "data": {
            "text/plain": [
              "(2, 3, 4)"
            ]
          },
          "metadata": {},
          "execution_count": 37
        }
      ]
    },
    {
      "cell_type": "code",
      "source": [
        "a[-2::-1]"
      ],
      "metadata": {
        "colab": {
          "base_uri": "https://localhost:8080/"
        },
        "id": "K72X2ReA-8br",
        "outputId": "db5e2726-a348-4604-b6ef-0467a6c5b1a2"
      },
      "execution_count": 41,
      "outputs": [
        {
          "output_type": "execute_result",
          "data": {
            "text/plain": [
              "(3, 2, 1)"
            ]
          },
          "metadata": {},
          "execution_count": 41
        }
      ]
    },
    {
      "cell_type": "code",
      "source": [
        "tuple(range(10))"
      ],
      "metadata": {
        "colab": {
          "base_uri": "https://localhost:8080/"
        },
        "id": "oOED6xky--0C",
        "outputId": "92bd61e3-b8f7-432b-a28a-28a34213cb3b"
      },
      "execution_count": 42,
      "outputs": [
        {
          "output_type": "execute_result",
          "data": {
            "text/plain": [
              "(0, 1, 2, 3, 4, 5, 6, 7, 8, 9)"
            ]
          },
          "metadata": {},
          "execution_count": 42
        }
      ]
    },
    {
      "cell_type": "markdown",
      "source": [
        "# Tuples are not mutable"
      ],
      "metadata": {
        "id": "_ItIk89P_OrE"
      }
    },
    {
      "cell_type": "code",
      "source": [
        "a"
      ],
      "metadata": {
        "colab": {
          "base_uri": "https://localhost:8080/"
        },
        "id": "ARo6k0Iq_KMM",
        "outputId": "1f9ec42d-cc6b-4675-bb47-7c3ce610e3fe"
      },
      "execution_count": 43,
      "outputs": [
        {
          "output_type": "execute_result",
          "data": {
            "text/plain": [
              "(1, 2, 3, 4)"
            ]
          },
          "metadata": {},
          "execution_count": 43
        }
      ]
    },
    {
      "cell_type": "code",
      "source": [
        "a[0] = 10"
      ],
      "metadata": {
        "colab": {
          "base_uri": "https://localhost:8080/",
          "height": 164
        },
        "id": "Dm5ON2Qs_TYg",
        "outputId": "9f082ad5-3bb0-4982-d1c1-bb4105c5b104"
      },
      "execution_count": 44,
      "outputs": [
        {
          "output_type": "error",
          "ename": "TypeError",
          "evalue": "ignored",
          "traceback": [
            "\u001b[0;31m---------------------------------------------------------------------------\u001b[0m",
            "\u001b[0;31mTypeError\u001b[0m                                 Traceback (most recent call last)",
            "\u001b[0;32m<ipython-input-44-88fe5a9b0ebf>\u001b[0m in \u001b[0;36m<cell line: 1>\u001b[0;34m()\u001b[0m\n\u001b[0;32m----> 1\u001b[0;31m \u001b[0ma\u001b[0m\u001b[0;34m[\u001b[0m\u001b[0;36m0\u001b[0m\u001b[0;34m]\u001b[0m \u001b[0;34m=\u001b[0m \u001b[0;36m10\u001b[0m\u001b[0;34m\u001b[0m\u001b[0;34m\u001b[0m\u001b[0m\n\u001b[0m",
            "\u001b[0;31mTypeError\u001b[0m: 'tuple' object does not support item assignment"
          ]
        }
      ]
    },
    {
      "cell_type": "code",
      "source": [
        "x = 1\n",
        "y = 2\n",
        "z = 3"
      ],
      "metadata": {
        "id": "GyLLFfeX_YLY"
      },
      "execution_count": 45,
      "outputs": []
    },
    {
      "cell_type": "code",
      "source": [
        "(x, y, z) = (4, 5, 6)"
      ],
      "metadata": {
        "id": "Y8TKJGX3_yrP"
      },
      "execution_count": 48,
      "outputs": []
    },
    {
      "cell_type": "code",
      "source": [
        "x "
      ],
      "metadata": {
        "colab": {
          "base_uri": "https://localhost:8080/"
        },
        "id": "onkQETv6_1N_",
        "outputId": "11ef197e-ebb0-4129-a365-e2a9263f7acc"
      },
      "execution_count": 49,
      "outputs": [
        {
          "output_type": "execute_result",
          "data": {
            "text/plain": [
              "4"
            ]
          },
          "metadata": {},
          "execution_count": 49
        }
      ]
    },
    {
      "cell_type": "code",
      "source": [
        "y"
      ],
      "metadata": {
        "colab": {
          "base_uri": "https://localhost:8080/"
        },
        "id": "ESmigE60_2M-",
        "outputId": "0d94da55-d5a8-496f-f49a-0ab224f03cdc"
      },
      "execution_count": 50,
      "outputs": [
        {
          "output_type": "execute_result",
          "data": {
            "text/plain": [
              "5"
            ]
          },
          "metadata": {},
          "execution_count": 50
        }
      ]
    },
    {
      "cell_type": "code",
      "source": [
        "z"
      ],
      "metadata": {
        "colab": {
          "base_uri": "https://localhost:8080/"
        },
        "id": "ZBP3Annt_5Tp",
        "outputId": "d1235188-b451-4047-ebb6-aa0e07141a68"
      },
      "execution_count": 51,
      "outputs": [
        {
          "output_type": "execute_result",
          "data": {
            "text/plain": [
              "6"
            ]
          },
          "metadata": {},
          "execution_count": 51
        }
      ]
    },
    {
      "cell_type": "markdown",
      "source": [
        "# Iterables (things that you can interate over)\n",
        "\n",
        "- lists\n",
        "- strings\n",
        "- tuples\n",
        "- dictionaries (dicts)\n",
        "- sets (we'll ignore those)\n",
        "\n",
        "# Dicts\n",
        "\n",
        "Dicts consist of key:value pairs."
      ],
      "metadata": {
        "id": "Y_Fe5u40AJZY"
      }
    },
    {
      "cell_type": "code",
      "source": [
        "food = {'apple':'fruit', 'potato': 'vegetable', 'cake': 'dessert'}\n",
        "food"
      ],
      "metadata": {
        "colab": {
          "base_uri": "https://localhost:8080/"
        },
        "id": "ZGWu9vx8_6JJ",
        "outputId": "40b6d1b2-713d-475b-c5a5-aed22cfe1c63"
      },
      "execution_count": 52,
      "outputs": [
        {
          "output_type": "execute_result",
          "data": {
            "text/plain": [
              "{'apple': 'fruit', 'potato': 'vegetable', 'cake': 'dessert'}"
            ]
          },
          "metadata": {},
          "execution_count": 52
        }
      ]
    },
    {
      "cell_type": "code",
      "source": [
        "type(food)"
      ],
      "metadata": {
        "colab": {
          "base_uri": "https://localhost:8080/"
        },
        "id": "TuvYWy8YBIqL",
        "outputId": "a59771ef-0849-4702-a97b-00928adf999a"
      },
      "execution_count": 53,
      "outputs": [
        {
          "output_type": "execute_result",
          "data": {
            "text/plain": [
              "dict"
            ]
          },
          "metadata": {},
          "execution_count": 53
        }
      ]
    },
    {
      "cell_type": "code",
      "source": [
        "food['apple']"
      ],
      "metadata": {
        "colab": {
          "base_uri": "https://localhost:8080/",
          "height": 35
        },
        "id": "TV034j1TBKqw",
        "outputId": "7ea74302-1026-4535-974a-fea9a9a44970"
      },
      "execution_count": 54,
      "outputs": [
        {
          "output_type": "execute_result",
          "data": {
            "text/plain": [
              "'fruit'"
            ],
            "application/vnd.google.colaboratory.intrinsic+json": {
              "type": "string"
            }
          },
          "metadata": {},
          "execution_count": 54
        }
      ]
    },
    {
      "cell_type": "code",
      "source": [
        "'strings are cool'[3:6]"
      ],
      "metadata": {
        "colab": {
          "base_uri": "https://localhost:8080/",
          "height": 35
        },
        "id": "KuM9AfGPBOmT",
        "outputId": "bdf89b1e-b38d-4dc6-cf90-ec49ce84942d"
      },
      "execution_count": 55,
      "outputs": [
        {
          "output_type": "execute_result",
          "data": {
            "text/plain": [
              "'ing'"
            ],
            "application/vnd.google.colaboratory.intrinsic+json": {
              "type": "string"
            }
          },
          "metadata": {},
          "execution_count": 55
        }
      ]
    },
    {
      "cell_type": "code",
      "source": [
        "food['potato']"
      ],
      "metadata": {
        "colab": {
          "base_uri": "https://localhost:8080/",
          "height": 35
        },
        "id": "ofn-sNmmBgvr",
        "outputId": "b3065ccb-6c6c-47bc-a580-f9ffc960d77d"
      },
      "execution_count": 56,
      "outputs": [
        {
          "output_type": "execute_result",
          "data": {
            "text/plain": [
              "'vegetable'"
            ],
            "application/vnd.google.colaboratory.intrinsic+json": {
              "type": "string"
            }
          },
          "metadata": {},
          "execution_count": 56
        }
      ]
    },
    {
      "cell_type": "code",
      "source": [
        "food['orange']"
      ],
      "metadata": {
        "colab": {
          "base_uri": "https://localhost:8080/",
          "height": 164
        },
        "id": "guI3Z1YzBmPg",
        "outputId": "f5984745-6125-4425-e902-2dce8a185ef9"
      },
      "execution_count": 57,
      "outputs": [
        {
          "output_type": "error",
          "ename": "KeyError",
          "evalue": "ignored",
          "traceback": [
            "\u001b[0;31m---------------------------------------------------------------------------\u001b[0m",
            "\u001b[0;31mKeyError\u001b[0m                                  Traceback (most recent call last)",
            "\u001b[0;32m<ipython-input-57-af98110d93ec>\u001b[0m in \u001b[0;36m<cell line: 1>\u001b[0;34m()\u001b[0m\n\u001b[0;32m----> 1\u001b[0;31m \u001b[0mfood\u001b[0m\u001b[0;34m[\u001b[0m\u001b[0;34m'orange'\u001b[0m\u001b[0;34m]\u001b[0m\u001b[0;34m\u001b[0m\u001b[0;34m\u001b[0m\u001b[0m\n\u001b[0m",
            "\u001b[0;31mKeyError\u001b[0m: 'orange'"
          ]
        }
      ]
    },
    {
      "cell_type": "code",
      "source": [
        "'orange' in food"
      ],
      "metadata": {
        "colab": {
          "base_uri": "https://localhost:8080/"
        },
        "id": "qzzV36vuBplz",
        "outputId": "f83072f3-c33b-4804-9247-ea7b4d187904"
      },
      "execution_count": 58,
      "outputs": [
        {
          "output_type": "execute_result",
          "data": {
            "text/plain": [
              "False"
            ]
          },
          "metadata": {},
          "execution_count": 58
        }
      ]
    },
    {
      "cell_type": "code",
      "source": [
        "'potato' in food"
      ],
      "metadata": {
        "colab": {
          "base_uri": "https://localhost:8080/"
        },
        "id": "dpPqhEvSBtvI",
        "outputId": "024b81bb-b567-40ac-bf79-ab89342461af"
      },
      "execution_count": 59,
      "outputs": [
        {
          "output_type": "execute_result",
          "data": {
            "text/plain": [
              "True"
            ]
          },
          "metadata": {},
          "execution_count": 59
        }
      ]
    },
    {
      "cell_type": "code",
      "source": [
        "food['orange'] = 'fruit'"
      ],
      "metadata": {
        "id": "5JZ5o4DwBxGT"
      },
      "execution_count": 60,
      "outputs": []
    },
    {
      "cell_type": "code",
      "source": [
        "food"
      ],
      "metadata": {
        "colab": {
          "base_uri": "https://localhost:8080/"
        },
        "id": "3eCUKCb-CBu5",
        "outputId": "876f931c-625b-4436-b51b-b0e5d82e3071"
      },
      "execution_count": 61,
      "outputs": [
        {
          "output_type": "execute_result",
          "data": {
            "text/plain": [
              "{'apple': 'fruit', 'potato': 'vegetable', 'cake': 'dessert', 'orange': 'fruit'}"
            ]
          },
          "metadata": {},
          "execution_count": 61
        }
      ]
    },
    {
      "cell_type": "code",
      "source": [
        "len(food)"
      ],
      "metadata": {
        "colab": {
          "base_uri": "https://localhost:8080/"
        },
        "id": "iXfynmo5CDkQ",
        "outputId": "2f051f6e-5baf-4f92-90f0-071cff3441d0"
      },
      "execution_count": 62,
      "outputs": [
        {
          "output_type": "execute_result",
          "data": {
            "text/plain": [
              "4"
            ]
          },
          "metadata": {},
          "execution_count": 62
        }
      ]
    },
    {
      "cell_type": "code",
      "source": [
        "food['apple'] = 'dessert'"
      ],
      "metadata": {
        "id": "9i404Q14CFcg"
      },
      "execution_count": 63,
      "outputs": []
    },
    {
      "cell_type": "code",
      "source": [
        "food"
      ],
      "metadata": {
        "colab": {
          "base_uri": "https://localhost:8080/"
        },
        "id": "U0pYBJMmCKQZ",
        "outputId": "75ba1ba3-8d03-4634-afd6-a16c8ecb2f64"
      },
      "execution_count": 64,
      "outputs": [
        {
          "output_type": "execute_result",
          "data": {
            "text/plain": [
              "{'apple': 'dessert',\n",
              " 'potato': 'vegetable',\n",
              " 'cake': 'dessert',\n",
              " 'orange': 'fruit'}"
            ]
          },
          "metadata": {},
          "execution_count": 64
        }
      ]
    },
    {
      "cell_type": "markdown",
      "source": [
        "Keys in the dict are **unique**"
      ],
      "metadata": {
        "id": "T4OIUVKvCVbA"
      }
    },
    {
      "cell_type": "code",
      "source": [
        "food[3] = 'aperitif'"
      ],
      "metadata": {
        "id": "C0XeOVgTCVCB"
      },
      "execution_count": 65,
      "outputs": []
    },
    {
      "cell_type": "code",
      "source": [
        "food"
      ],
      "metadata": {
        "colab": {
          "base_uri": "https://localhost:8080/"
        },
        "id": "qho7Vye8CK91",
        "outputId": "efbddb86-f1f6-4fe8-a9f5-200587c77747"
      },
      "execution_count": 66,
      "outputs": [
        {
          "output_type": "execute_result",
          "data": {
            "text/plain": [
              "{'apple': 'dessert',\n",
              " 'potato': 'vegetable',\n",
              " 'cake': 'dessert',\n",
              " 'orange': 'fruit',\n",
              " 3: 'aperitif'}"
            ]
          },
          "metadata": {},
          "execution_count": 66
        }
      ]
    },
    {
      "cell_type": "code",
      "source": [
        "dict(a=1, b=2, c=3)\n",
        "# bad programming there"
      ],
      "metadata": {
        "colab": {
          "base_uri": "https://localhost:8080/"
        },
        "id": "j9e6Wr1cCh7i",
        "outputId": "a01c82bf-dbf9-46e2-e4ba-f62b1f67251d"
      },
      "execution_count": 71,
      "outputs": [
        {
          "output_type": "execute_result",
          "data": {
            "text/plain": [
              "{'a': 1, 'b': 2, 'c': 3}"
            ]
          },
          "metadata": {},
          "execution_count": 71
        }
      ]
    },
    {
      "cell_type": "code",
      "source": [
        "{'a': 1, 'b': 2}"
      ],
      "metadata": {
        "colab": {
          "base_uri": "https://localhost:8080/"
        },
        "id": "rBqtyHHfCwwt",
        "outputId": "c968ccd9-5ffd-449d-c77a-fca378f21e81"
      },
      "execution_count": 70,
      "outputs": [
        {
          "output_type": "execute_result",
          "data": {
            "text/plain": [
              "{'a': 1, 'b': 2}"
            ]
          },
          "metadata": {},
          "execution_count": 70
        }
      ]
    },
    {
      "cell_type": "code",
      "source": [
        "food"
      ],
      "metadata": {
        "colab": {
          "base_uri": "https://localhost:8080/"
        },
        "id": "T_wwYhjZC3gB",
        "outputId": "17115c7c-d27d-44f9-d229-8dc79b886db6"
      },
      "execution_count": 72,
      "outputs": [
        {
          "output_type": "execute_result",
          "data": {
            "text/plain": [
              "{'apple': 'dessert',\n",
              " 'potato': 'vegetable',\n",
              " 'cake': 'dessert',\n",
              " 'orange': 'fruit',\n",
              " 3: 'aperitif'}"
            ]
          },
          "metadata": {},
          "execution_count": 72
        }
      ]
    },
    {
      "cell_type": "markdown",
      "source": [
        "If Python 3.7 or later, dicts are ordered"
      ],
      "metadata": {
        "id": "pBdrOZlKDW_G"
      }
    },
    {
      "cell_type": "code",
      "source": [
        "for f in food:\n",
        "  print(f)"
      ],
      "metadata": {
        "colab": {
          "base_uri": "https://localhost:8080/"
        },
        "id": "yS1AZKDUDTc3",
        "outputId": "d3c1ebab-0355-4ea3-c026-5c7a0a4919ae"
      },
      "execution_count": 74,
      "outputs": [
        {
          "output_type": "stream",
          "name": "stdout",
          "text": [
            "apple\n",
            "potato\n",
            "cake\n",
            "orange\n",
            "3\n"
          ]
        }
      ]
    },
    {
      "cell_type": "code",
      "source": [
        "food[3]"
      ],
      "metadata": {
        "colab": {
          "base_uri": "https://localhost:8080/",
          "height": 35
        },
        "id": "ZreMAZfuDjZk",
        "outputId": "86ab49b8-2347-4907-dc33-eaefd17f54c4"
      },
      "execution_count": 76,
      "outputs": [
        {
          "output_type": "execute_result",
          "data": {
            "text/plain": [
              "'aperitif'"
            ],
            "application/vnd.google.colaboratory.intrinsic+json": {
              "type": "string"
            }
          },
          "metadata": {},
          "execution_count": 76
        }
      ]
    },
    {
      "cell_type": "code",
      "source": [
        "food.keys()"
      ],
      "metadata": {
        "colab": {
          "base_uri": "https://localhost:8080/"
        },
        "id": "11dcRRihDyXo",
        "outputId": "1f11e180-ed62-4f2a-e683-f816b6386171"
      },
      "execution_count": 77,
      "outputs": [
        {
          "output_type": "execute_result",
          "data": {
            "text/plain": [
              "dict_keys(['apple', 'potato', 'cake', 'orange', 3])"
            ]
          },
          "metadata": {},
          "execution_count": 77
        }
      ]
    },
    {
      "cell_type": "code",
      "source": [
        "type(food)"
      ],
      "metadata": {
        "colab": {
          "base_uri": "https://localhost:8080/"
        },
        "id": "mfGh2nwNECCl",
        "outputId": "5b64f007-a5d6-4dad-cbba-9371ba3283fb"
      },
      "execution_count": 78,
      "outputs": [
        {
          "output_type": "execute_result",
          "data": {
            "text/plain": [
              "dict"
            ]
          },
          "metadata": {},
          "execution_count": 78
        }
      ]
    },
    {
      "cell_type": "code",
      "source": [
        "type(food.keys())"
      ],
      "metadata": {
        "colab": {
          "base_uri": "https://localhost:8080/"
        },
        "id": "9i7JDEveEHsi",
        "outputId": "9ec75aab-2a7f-435a-dbdc-ffc5023bdbf5"
      },
      "execution_count": 79,
      "outputs": [
        {
          "output_type": "execute_result",
          "data": {
            "text/plain": [
              "dict_keys"
            ]
          },
          "metadata": {},
          "execution_count": 79
        }
      ]
    },
    {
      "cell_type": "code",
      "source": [
        "list(food.keys())"
      ],
      "metadata": {
        "colab": {
          "base_uri": "https://localhost:8080/"
        },
        "id": "mE1nEGiEER4x",
        "outputId": "e23843bf-346e-4c90-fc81-4ff126ed8efe"
      },
      "execution_count": 80,
      "outputs": [
        {
          "output_type": "execute_result",
          "data": {
            "text/plain": [
              "['apple', 'potato', 'cake', 'orange', 3]"
            ]
          },
          "metadata": {},
          "execution_count": 80
        }
      ]
    },
    {
      "cell_type": "code",
      "source": [
        "tuple(food.keys())"
      ],
      "metadata": {
        "colab": {
          "base_uri": "https://localhost:8080/"
        },
        "id": "L9siT-IhEbHj",
        "outputId": "9a9f9bd0-7918-413f-fa13-418668e55b35"
      },
      "execution_count": 81,
      "outputs": [
        {
          "output_type": "execute_result",
          "data": {
            "text/plain": [
              "('apple', 'potato', 'cake', 'orange', 3)"
            ]
          },
          "metadata": {},
          "execution_count": 81
        }
      ]
    },
    {
      "cell_type": "code",
      "source": [
        "str(food.keys())"
      ],
      "metadata": {
        "colab": {
          "base_uri": "https://localhost:8080/",
          "height": 35
        },
        "id": "IGH5Sg3kEeBq",
        "outputId": "a42611c0-a525-46c5-cc3a-2447bff5d888"
      },
      "execution_count": 83,
      "outputs": [
        {
          "output_type": "execute_result",
          "data": {
            "text/plain": [
              "\"dict_keys(['apple', 'potato', 'cake', 'orange', 3])\""
            ],
            "application/vnd.google.colaboratory.intrinsic+json": {
              "type": "string"
            }
          },
          "metadata": {},
          "execution_count": 83
        }
      ]
    },
    {
      "cell_type": "code",
      "source": [
        "i = 0\n",
        "for k in food.keys():\n",
        "  print(f'{i}th key is {k}')\n",
        "  i += 1"
      ],
      "metadata": {
        "colab": {
          "base_uri": "https://localhost:8080/"
        },
        "id": "2iLAAovsEiuA",
        "outputId": "62e039d2-424b-4276-f15e-42dd16a8a43b"
      },
      "execution_count": 85,
      "outputs": [
        {
          "output_type": "stream",
          "name": "stdout",
          "text": [
            "0th key is apple\n",
            "1th key is potato\n",
            "2th key is cake\n",
            "3th key is orange\n",
            "4th key is 3\n"
          ]
        }
      ]
    },
    {
      "cell_type": "code",
      "source": [
        "food.values()"
      ],
      "metadata": {
        "colab": {
          "base_uri": "https://localhost:8080/"
        },
        "id": "pWhLHBE9Ewgs",
        "outputId": "ba7a645e-b56a-4474-812a-a1b6ad102b12"
      },
      "execution_count": 86,
      "outputs": [
        {
          "output_type": "execute_result",
          "data": {
            "text/plain": [
              "dict_values(['dessert', 'vegetable', 'dessert', 'fruit', 'aperitif'])"
            ]
          },
          "metadata": {},
          "execution_count": 86
        }
      ]
    },
    {
      "cell_type": "code",
      "source": [
        "list(food.values())[3:6]"
      ],
      "metadata": {
        "colab": {
          "base_uri": "https://localhost:8080/"
        },
        "id": "hdRMPJ_TFIxl",
        "outputId": "9fa398f9-f2a2-45e5-ccfa-febb7ac55b75"
      },
      "execution_count": 87,
      "outputs": [
        {
          "output_type": "execute_result",
          "data": {
            "text/plain": [
              "['fruit', 'aperitif']"
            ]
          },
          "metadata": {},
          "execution_count": 87
        }
      ]
    },
    {
      "cell_type": "code",
      "source": [
        "a = ['apple', 'orange', 'banana', 'carrot']\n",
        "b = [4, 6, 7, 6]"
      ],
      "metadata": {
        "id": "aQFcu-YkFO5y"
      },
      "execution_count": 88,
      "outputs": []
    },
    {
      "cell_type": "code",
      "source": [
        "z = zip(a, b)\n",
        "\n"
      ],
      "metadata": {
        "id": "kgen9PBlFrAq"
      },
      "execution_count": 89,
      "outputs": []
    },
    {
      "cell_type": "code",
      "source": [
        "z"
      ],
      "metadata": {
        "colab": {
          "base_uri": "https://localhost:8080/"
        },
        "id": "9js6M7PIF9Bn",
        "outputId": "1ecf8318-e633-42a8-90a4-a99226eba058"
      },
      "execution_count": 90,
      "outputs": [
        {
          "output_type": "execute_result",
          "data": {
            "text/plain": [
              "<zip at 0x7fc1ea8ea800>"
            ]
          },
          "metadata": {},
          "execution_count": 90
        }
      ]
    },
    {
      "cell_type": "code",
      "source": [
        "type(z)"
      ],
      "metadata": {
        "colab": {
          "base_uri": "https://localhost:8080/"
        },
        "id": "aDOYNm7GF-E0",
        "outputId": "ae440f3a-0853-4e5b-e445-869f2cc43cf3"
      },
      "execution_count": 91,
      "outputs": [
        {
          "output_type": "execute_result",
          "data": {
            "text/plain": [
              "zip"
            ]
          },
          "metadata": {},
          "execution_count": 91
        }
      ]
    },
    {
      "cell_type": "code",
      "source": [
        "dict(z)"
      ],
      "metadata": {
        "colab": {
          "base_uri": "https://localhost:8080/"
        },
        "id": "CWMgnoDtGEM2",
        "outputId": "5c919ecd-9d83-4186-dfca-c467699b837e"
      },
      "execution_count": 92,
      "outputs": [
        {
          "output_type": "execute_result",
          "data": {
            "text/plain": [
              "{'apple': 4, 'orange': 6, 'banana': 7, 'carrot': 6}"
            ]
          },
          "metadata": {},
          "execution_count": 92
        }
      ]
    },
    {
      "cell_type": "code",
      "source": [
        "dict(zip(a, b))"
      ],
      "metadata": {
        "colab": {
          "base_uri": "https://localhost:8080/"
        },
        "id": "HstDlO9QGOeX",
        "outputId": "87c578c5-482f-4e23-ca9a-e7b103252e9a"
      },
      "execution_count": 93,
      "outputs": [
        {
          "output_type": "execute_result",
          "data": {
            "text/plain": [
              "{'apple': 4, 'orange': 6, 'banana': 7, 'carrot': 6}"
            ]
          },
          "metadata": {},
          "execution_count": 93
        }
      ]
    },
    {
      "cell_type": "code",
      "source": [
        "a\n"
      ],
      "metadata": {
        "colab": {
          "base_uri": "https://localhost:8080/"
        },
        "id": "YkyWhT01GREC",
        "outputId": "13296d08-22fa-461b-b2a3-d1a8b7a59e77"
      },
      "execution_count": 94,
      "outputs": [
        {
          "output_type": "execute_result",
          "data": {
            "text/plain": [
              "['apple', 'orange', 'banana', 'carrot']"
            ]
          },
          "metadata": {},
          "execution_count": 94
        }
      ]
    },
    {
      "cell_type": "code",
      "source": [
        "b"
      ],
      "metadata": {
        "colab": {
          "base_uri": "https://localhost:8080/"
        },
        "id": "CHcqm7D-Gcgq",
        "outputId": "51360588-648d-484d-d0ea-41a07ac55550"
      },
      "execution_count": 95,
      "outputs": [
        {
          "output_type": "execute_result",
          "data": {
            "text/plain": [
              "[4, 6, 7, 6]"
            ]
          },
          "metadata": {},
          "execution_count": 95
        }
      ]
    },
    {
      "cell_type": "code",
      "source": [
        "for x, y in zip(a,b):\n",
        "  print(f'x is {x} and y is {y}')"
      ],
      "metadata": {
        "colab": {
          "base_uri": "https://localhost:8080/"
        },
        "id": "N634DYmUGc8Q",
        "outputId": "4629e8a0-961a-4c2f-93a2-9864bf559b2f"
      },
      "execution_count": 96,
      "outputs": [
        {
          "output_type": "stream",
          "name": "stdout",
          "text": [
            "x is apple and y is 4\n",
            "x is orange and y is 6\n",
            "x is banana and y is 7\n",
            "x is carrot and y is 6\n"
          ]
        }
      ]
    },
    {
      "cell_type": "code",
      "source": [
        "food"
      ],
      "metadata": {
        "colab": {
          "base_uri": "https://localhost:8080/"
        },
        "id": "GuxrsNSgGq_i",
        "outputId": "a1c00753-076e-47c9-8f00-f26d8b24497d"
      },
      "execution_count": 97,
      "outputs": [
        {
          "output_type": "execute_result",
          "data": {
            "text/plain": [
              "{'apple': 'dessert',\n",
              " 'potato': 'vegetable',\n",
              " 'cake': 'dessert',\n",
              " 'orange': 'fruit',\n",
              " 3: 'aperitif'}"
            ]
          },
          "metadata": {},
          "execution_count": 97
        }
      ]
    },
    {
      "cell_type": "code",
      "source": [
        "for f in food:\n",
        "  print(food[f])"
      ],
      "metadata": {
        "colab": {
          "base_uri": "https://localhost:8080/"
        },
        "id": "SBlgzR3zIC9T",
        "outputId": "f7622e25-2b70-480f-d568-e296ebc44590"
      },
      "execution_count": 99,
      "outputs": [
        {
          "output_type": "stream",
          "name": "stdout",
          "text": [
            "dessert\n",
            "vegetable\n",
            "dessert\n",
            "fruit\n",
            "aperitif\n"
          ]
        }
      ]
    },
    {
      "cell_type": "code",
      "source": [
        "food.items()"
      ],
      "metadata": {
        "colab": {
          "base_uri": "https://localhost:8080/"
        },
        "id": "ZYj_axFnIHlJ",
        "outputId": "de8877e5-1166-48a5-e5f8-c502fe65091c"
      },
      "execution_count": 100,
      "outputs": [
        {
          "output_type": "execute_result",
          "data": {
            "text/plain": [
              "dict_items([('apple', 'dessert'), ('potato', 'vegetable'), ('cake', 'dessert'), ('orange', 'fruit'), (3, 'aperitif')])"
            ]
          },
          "metadata": {},
          "execution_count": 100
        }
      ]
    },
    {
      "cell_type": "code",
      "source": [
        "for k, v in food.items():\n",
        "  print(f'key is {k}, value is {v}')"
      ],
      "metadata": {
        "colab": {
          "base_uri": "https://localhost:8080/"
        },
        "id": "YQ4qkne5ISQr",
        "outputId": "ee35d1bd-6dd4-4818-8f43-fa2d400dffa1"
      },
      "execution_count": 101,
      "outputs": [
        {
          "output_type": "stream",
          "name": "stdout",
          "text": [
            "key is apple, value is dessert\n",
            "key is potato, value is vegetable\n",
            "key is cake, value is dessert\n",
            "key is orange, value is fruit\n",
            "key is 3, value is aperitif\n"
          ]
        }
      ]
    },
    {
      "cell_type": "markdown",
      "source": [
        "Unpacking in Python"
      ],
      "metadata": {
        "id": "HnhizUYvJCqE"
      }
    },
    {
      "cell_type": "code",
      "source": [],
      "metadata": {
        "id": "BXU3huiUJCYV"
      },
      "execution_count": null,
      "outputs": []
    },
    {
      "cell_type": "code",
      "source": [],
      "metadata": {
        "id": "u-kf_CogIsyp"
      },
      "execution_count": null,
      "outputs": []
    }
  ]
}