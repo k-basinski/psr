{
  "nbformat": 4,
  "nbformat_minor": 0,
  "metadata": {
    "colab": {
      "provenance": []
    },
    "kernelspec": {
      "name": "python3",
      "display_name": "Python 3"
    },
    "language_info": {
      "name": "python"
    }
  },
  "cells": [
    {
      "cell_type": "code",
      "execution_count": null,
      "metadata": {
        "colab": {
          "base_uri": "https://localhost:8080/"
        },
        "id": "aHJs0fTbhABA",
        "outputId": "e4586906-9790-447e-dd39-a9a0e009a351"
      },
      "outputs": [
        {
          "output_type": "stream",
          "name": "stdout",
          "text": [
            "All cool, great.\n"
          ]
        }
      ],
      "source": [
        "print(\"All cool, great.\")"
      ]
    },
    {
      "cell_type": "code",
      "source": [
        "print('All', 'cool', 'very', 'nice', 2+34)"
      ],
      "metadata": {
        "colab": {
          "base_uri": "https://localhost:8080/"
        },
        "id": "Q7GIZxG1hTUJ",
        "outputId": "e3f12cbe-cdb6-42ba-ddd0-97669468115d"
      },
      "execution_count": null,
      "outputs": [
        {
          "output_type": "stream",
          "name": "stdout",
          "text": [
            "All cool very nice 36\n"
          ]
        }
      ]
    },
    {
      "cell_type": "code",
      "source": [
        "round(2 / 3, 2)"
      ],
      "metadata": {
        "colab": {
          "base_uri": "https://localhost:8080/"
        },
        "id": "ct2bbMIuhq6V",
        "outputId": "6f885bf3-0de3-4447-af31-5da45f87c047"
      },
      "execution_count": null,
      "outputs": [
        {
          "output_type": "execute_result",
          "data": {
            "text/plain": [
              "0.67"
            ]
          },
          "metadata": {},
          "execution_count": 6
        }
      ]
    },
    {
      "cell_type": "code",
      "source": [
        "2 + 3, 4 * 4, 1 / 5, 12 // 5, 12 % 5"
      ],
      "metadata": {
        "colab": {
          "base_uri": "https://localhost:8080/"
        },
        "id": "l4ysl-8Xh3ML",
        "outputId": "0c7f09fc-a9e6-4e76-e90c-176fdef0b4b7"
      },
      "execution_count": null,
      "outputs": [
        {
          "output_type": "execute_result",
          "data": {
            "text/plain": [
              "(5, 16, 0.2, 2, 2)"
            ]
          },
          "metadata": {},
          "execution_count": 8
        }
      ]
    },
    {
      "cell_type": "code",
      "source": [
        "2 == 3, 23 > 22, 23 <= 22"
      ],
      "metadata": {
        "colab": {
          "base_uri": "https://localhost:8080/"
        },
        "id": "C3uK3104iGs0",
        "outputId": "df3649b2-f54d-4a13-86ec-ac28e4844724"
      },
      "execution_count": null,
      "outputs": [
        {
          "output_type": "execute_result",
          "data": {
            "text/plain": [
              "(False, True, False)"
            ]
          },
          "metadata": {},
          "execution_count": 9
        }
      ]
    },
    {
      "cell_type": "code",
      "source": [
        "# boolean type/value\n",
        "type(23 >= 22)"
      ],
      "metadata": {
        "colab": {
          "base_uri": "https://localhost:8080/"
        },
        "id": "vlCtgASCicSG",
        "outputId": "b5639878-b799-4cec-ddc9-01496e7197d4"
      },
      "execution_count": null,
      "outputs": [
        {
          "output_type": "execute_result",
          "data": {
            "text/plain": [
              "bool"
            ]
          },
          "metadata": {},
          "execution_count": 10
        }
      ]
    },
    {
      "cell_type": "code",
      "source": [
        "type(False)"
      ],
      "metadata": {
        "colab": {
          "base_uri": "https://localhost:8080/"
        },
        "id": "Pt3Gs3aeijFB",
        "outputId": "8444fac2-d56b-4c5d-b47c-ad286dfec47c"
      },
      "execution_count": null,
      "outputs": [
        {
          "output_type": "execute_result",
          "data": {
            "text/plain": [
              "bool"
            ]
          },
          "metadata": {},
          "execution_count": 11
        }
      ]
    },
    {
      "cell_type": "code",
      "source": [
        "type(false)"
      ],
      "metadata": {
        "colab": {
          "base_uri": "https://localhost:8080/",
          "height": 138
        },
        "id": "Ly7_VcIHirmm",
        "outputId": "e54ec25e-fd16-49d0-e0be-a352aad6d5c5"
      },
      "execution_count": null,
      "outputs": [
        {
          "output_type": "error",
          "ename": "NameError",
          "evalue": "name 'false' is not defined",
          "traceback": [
            "\u001b[0;31m---------------------------------------------------------------------------\u001b[0m",
            "\u001b[0;31mNameError\u001b[0m                                 Traceback (most recent call last)",
            "\u001b[0;32m<ipython-input-12-5d8f55c25b5e>\u001b[0m in \u001b[0;36m<cell line: 0>\u001b[0;34m()\u001b[0m\n\u001b[0;32m----> 1\u001b[0;31m \u001b[0mtype\u001b[0m\u001b[0;34m(\u001b[0m\u001b[0mfalse\u001b[0m\u001b[0;34m)\u001b[0m\u001b[0;34m\u001b[0m\u001b[0;34m\u001b[0m\u001b[0m\n\u001b[0m",
            "\u001b[0;31mNameError\u001b[0m: name 'false' is not defined"
          ]
        }
      ]
    },
    {
      "cell_type": "code",
      "source": [
        " var_a = 3\n",
        " var_a = 2\n"
      ],
      "metadata": {
        "id": "PcNJoCUGists"
      },
      "execution_count": null,
      "outputs": []
    },
    {
      "cell_type": "code",
      "source": [
        "var_a == 2"
      ],
      "metadata": {
        "colab": {
          "base_uri": "https://localhost:8080/"
        },
        "id": "I8hqu6yNi8lI",
        "outputId": "786112b2-bf13-48a2-eabc-1eed895a80d0"
      },
      "execution_count": null,
      "outputs": [
        {
          "output_type": "execute_result",
          "data": {
            "text/plain": [
              "True"
            ]
          },
          "metadata": {},
          "execution_count": 14
        }
      ]
    },
    {
      "cell_type": "code",
      "source": [
        "# is smth NOT EQUAL\n",
        "3 != 2"
      ],
      "metadata": {
        "colab": {
          "base_uri": "https://localhost:8080/"
        },
        "id": "GbOsbW6ji9rX",
        "outputId": "0e82543e-f05d-42ae-f905-f92e634d6f48"
      },
      "execution_count": null,
      "outputs": [
        {
          "output_type": "execute_result",
          "data": {
            "text/plain": [
              "True"
            ]
          },
          "metadata": {},
          "execution_count": 16
        }
      ]
    },
    {
      "cell_type": "code",
      "source": [
        "3 != 3"
      ],
      "metadata": {
        "colab": {
          "base_uri": "https://localhost:8080/"
        },
        "id": "cwrV2gpAjK3s",
        "outputId": "3eddde50-ab2a-4fbe-d558-7e44b65b15c0"
      },
      "execution_count": null,
      "outputs": [
        {
          "output_type": "execute_result",
          "data": {
            "text/plain": [
              "False"
            ]
          },
          "metadata": {},
          "execution_count": 17
        }
      ]
    },
    {
      "cell_type": "markdown",
      "source": [
        "## Conditional expressions\n",
        "\n",
        "Write a program that determines if the number is even (2,4,6,...) or odd (1,3,5..)"
      ],
      "metadata": {
        "id": "6CGdncTfjhdM"
      }
    },
    {
      "cell_type": "code",
      "source": [
        "a = 11100\n",
        "\n",
        "a % 2 == 0"
      ],
      "metadata": {
        "colab": {
          "base_uri": "https://localhost:8080/"
        },
        "id": "f_GzG7kqjOFH",
        "outputId": "46cb99c2-9357-4c01-d623-a42ddc800eb6"
      },
      "execution_count": null,
      "outputs": [
        {
          "output_type": "execute_result",
          "data": {
            "text/plain": [
              "True"
            ]
          },
          "metadata": {},
          "execution_count": 27
        }
      ]
    },
    {
      "cell_type": "code",
      "source": [
        "a = 4\n",
        "\n",
        "if a % 2 == 0:\n",
        "  print(\"The number\", a, \"is even.\")\n",
        "  print(\"Wonderful, this is a second line in this code block.\")\n",
        "  print(\"This is the third line. Cool, eh?\")\n",
        "else:\n",
        "  print(\"The number\", a, \"is odd.\")\n",
        "  print(\"Blablabla, of course it's odd.\")"
      ],
      "metadata": {
        "colab": {
          "base_uri": "https://localhost:8080/"
        },
        "id": "u-pcQZiLkza8",
        "outputId": "7b707fdb-de90-433b-94c2-d0c7eda371b9"
      },
      "execution_count": null,
      "outputs": [
        {
          "output_type": "stream",
          "name": "stdout",
          "text": [
            "The number 4 is even.\n",
            "Wonderful, this is a second line in this code block.\n",
            "This is the third line. Cool, eh?\n"
          ]
        }
      ]
    },
    {
      "cell_type": "code",
      "source": [
        "a = 0\n",
        "if a == 0:\n",
        "  print(\"The number is zero.\")\n",
        "elif a % 2 == 0:\n",
        "  print(\"The number\", a, \"is even.\")\n",
        "else:\n",
        "  print(\"The number\", a, \"is odd.\")\n"
      ],
      "metadata": {
        "colab": {
          "base_uri": "https://localhost:8080/"
        },
        "id": "Rrzwek0nkzVZ",
        "outputId": "14c707dc-e1fe-44a1-eb1d-86c0e2a8bc1b"
      },
      "execution_count": null,
      "outputs": [
        {
          "output_type": "stream",
          "name": "stdout",
          "text": [
            "The number is zero.\n"
          ]
        }
      ]
    },
    {
      "cell_type": "code",
      "source": [
        "a = 0\n",
        "\n",
        "if a == 0:\n",
        "  print(\"The number is zero.\")\n",
        "\n",
        "if a % 2 == 0:\n",
        "  print(\"The number\", a, \"is even.\")\n",
        "\n",
        "if a % 2 == 1:\n",
        "  print(\"The number\", a, \"is odd.\")"
      ],
      "metadata": {
        "colab": {
          "base_uri": "https://localhost:8080/"
        },
        "id": "iD6a99cxpXh2",
        "outputId": "68e6a151-f6bf-441e-f271-fffeb1ffcc37"
      },
      "execution_count": null,
      "outputs": [
        {
          "output_type": "stream",
          "name": "stdout",
          "text": [
            "The number is zero.\n",
            "The number 0 is even.\n"
          ]
        }
      ]
    },
    {
      "cell_type": "markdown",
      "source": [
        "See if the number is divisible at the same time by 2, 3, and 4."
      ],
      "metadata": {
        "id": "DYQqSB0xsRjy"
      }
    },
    {
      "cell_type": "code",
      "source": [
        "a = 36\n",
        "\n",
        "print(a % 2 == 0)\n",
        "print(a % 3 == 0)\n",
        "print(a % 4 == 0)"
      ],
      "metadata": {
        "colab": {
          "base_uri": "https://localhost:8080/"
        },
        "id": "fODNGp2kqzQG",
        "outputId": "5eb4ad82-d587-4b73-c269-75afde8d2c44"
      },
      "execution_count": null,
      "outputs": [
        {
          "output_type": "stream",
          "name": "stdout",
          "text": [
            "True\n",
            "True\n",
            "True\n"
          ]
        }
      ]
    },
    {
      "cell_type": "code",
      "source": [
        "a = 35\n",
        "if a % 2 == 0:\n",
        "  if a % 3 == 0:\n",
        "    if a % 4 == 0:\n",
        "      print(\"hooray!\", a, \"is divisible by both 2,3 and 4!\")\n",
        "    else:\n",
        "      print(\"nope.\")\n",
        "  else:\n",
        "    print(\"nope.\")\n",
        "else:\n",
        "  print(\"nope.\")"
      ],
      "metadata": {
        "colab": {
          "base_uri": "https://localhost:8080/"
        },
        "id": "xNjdNN7UspH3",
        "outputId": "2026a7a1-3325-4325-b6ef-19d63fb7b376"
      },
      "execution_count": null,
      "outputs": [
        {
          "output_type": "stream",
          "name": "stdout",
          "text": [
            "nope.\n"
          ]
        }
      ]
    },
    {
      "cell_type": "code",
      "source": [
        "True and True"
      ],
      "metadata": {
        "colab": {
          "base_uri": "https://localhost:8080/"
        },
        "id": "I-bp52T-tc-Z",
        "outputId": "18d91067-6b92-44c1-d3d7-088f054535e2"
      },
      "execution_count": null,
      "outputs": [
        {
          "output_type": "execute_result",
          "data": {
            "text/plain": [
              "True"
            ]
          },
          "metadata": {},
          "execution_count": 69
        }
      ]
    },
    {
      "cell_type": "code",
      "source": [
        "True and False"
      ],
      "metadata": {
        "colab": {
          "base_uri": "https://localhost:8080/"
        },
        "id": "IAYNODd5uRU-",
        "outputId": "9e82525e-25be-4a66-c15d-604843b9f915"
      },
      "execution_count": null,
      "outputs": [
        {
          "output_type": "execute_result",
          "data": {
            "text/plain": [
              "False"
            ]
          },
          "metadata": {},
          "execution_count": 70
        }
      ]
    },
    {
      "cell_type": "code",
      "source": [
        "False and True"
      ],
      "metadata": {
        "colab": {
          "base_uri": "https://localhost:8080/"
        },
        "id": "87r5ASPBuU6I",
        "outputId": "f54c7809-0a15-480b-e58b-369ff68f3705"
      },
      "execution_count": null,
      "outputs": [
        {
          "output_type": "execute_result",
          "data": {
            "text/plain": [
              "False"
            ]
          },
          "metadata": {},
          "execution_count": 71
        }
      ]
    },
    {
      "cell_type": "code",
      "source": [
        "False and False"
      ],
      "metadata": {
        "colab": {
          "base_uri": "https://localhost:8080/"
        },
        "id": "a_hi4Ylfuc2x",
        "outputId": "bbb91211-237d-403c-9ac8-3d1b57f428b8"
      },
      "execution_count": null,
      "outputs": [
        {
          "output_type": "execute_result",
          "data": {
            "text/plain": [
              "False"
            ]
          },
          "metadata": {},
          "execution_count": 72
        }
      ]
    },
    {
      "cell_type": "markdown",
      "source": [
        "`and` is `True` if and only if both sides are `True`"
      ],
      "metadata": {
        "id": "Gg-UrSsyute3"
      }
    },
    {
      "cell_type": "code",
      "source": [
        "2 < 3 and 4 < 5"
      ],
      "metadata": {
        "colab": {
          "base_uri": "https://localhost:8080/"
        },
        "id": "bVcLxdl0ud6P",
        "outputId": "02d01431-bb56-49f4-9ced-8ba61cb3dbb1"
      },
      "execution_count": null,
      "outputs": [
        {
          "output_type": "execute_result",
          "data": {
            "text/plain": [
              "True"
            ]
          },
          "metadata": {},
          "execution_count": 73
        }
      ]
    },
    {
      "cell_type": "code",
      "source": [
        "2 < 3 and 4 == 5"
      ],
      "metadata": {
        "colab": {
          "base_uri": "https://localhost:8080/"
        },
        "id": "SsR3rHpsulhR",
        "outputId": "152e0b99-9fdd-4b19-c47b-e049bd612cd2"
      },
      "execution_count": null,
      "outputs": [
        {
          "output_type": "execute_result",
          "data": {
            "text/plain": [
              "False"
            ]
          },
          "metadata": {},
          "execution_count": 74
        }
      ]
    },
    {
      "cell_type": "code",
      "source": [
        "2 == 2 and 2 + 2 == 4 and 4 < 5"
      ],
      "metadata": {
        "colab": {
          "base_uri": "https://localhost:8080/"
        },
        "id": "17xIVYrVupJ4",
        "outputId": "f930f8f1-d5e1-4944-ac66-0a39160817f1"
      },
      "execution_count": null,
      "outputs": [
        {
          "output_type": "execute_result",
          "data": {
            "text/plain": [
              "True"
            ]
          },
          "metadata": {},
          "execution_count": 75
        }
      ]
    },
    {
      "cell_type": "code",
      "source": [
        "if 2 == 2 and 2 + 2 == 4 and 4 < 5:\n",
        "  print(\"Yey!\")"
      ],
      "metadata": {
        "colab": {
          "base_uri": "https://localhost:8080/"
        },
        "id": "LNG8VaGxu8UK",
        "outputId": "8694c3fa-26be-4f6a-8703-377c6d047d2a"
      },
      "execution_count": null,
      "outputs": [
        {
          "output_type": "stream",
          "name": "stdout",
          "text": [
            "Yey!\n"
          ]
        }
      ]
    },
    {
      "cell_type": "code",
      "source": [
        "a = 36\n",
        "if (a % 2 == 0) and (a % 3 == 0) and (a % 4 == 0):\n",
        "  print(\"hooray!\")\n",
        "else:\n",
        "  print(\"Nope.\")"
      ],
      "metadata": {
        "colab": {
          "base_uri": "https://localhost:8080/"
        },
        "id": "pf_yhxvHvGjN",
        "outputId": "907626dd-797f-43b0-9319-ee192811a00c"
      },
      "execution_count": null,
      "outputs": [
        {
          "output_type": "stream",
          "name": "stdout",
          "text": [
            "hooray!\n"
          ]
        }
      ]
    },
    {
      "cell_type": "markdown",
      "source": [
        "Now let's check if the number is divisible by 2 OR 3 OR 4."
      ],
      "metadata": {
        "id": "c5le4vBox0Mu"
      }
    },
    {
      "cell_type": "code",
      "source": [
        "a = 31\n",
        "if (a % 2 == 0) or (a % 3 == 0) or (a % 4 == 0):\n",
        "  print(\"hooray!\")\n",
        "else:\n",
        "  print(\"Nope.\")"
      ],
      "metadata": {
        "colab": {
          "base_uri": "https://localhost:8080/"
        },
        "id": "_9l0RvGgxaGN",
        "outputId": "ea1e4725-b9f7-406c-fe74-385228acd9b1"
      },
      "execution_count": null,
      "outputs": [
        {
          "output_type": "stream",
          "name": "stdout",
          "text": [
            "Nope.\n"
          ]
        }
      ]
    },
    {
      "cell_type": "code",
      "source": [
        "# or operator, logical alternative\n",
        "print(True or True)\n",
        "print(True or False)\n",
        "print(False or True)\n",
        "print(False or False)"
      ],
      "metadata": {
        "colab": {
          "base_uri": "https://localhost:8080/"
        },
        "id": "o28x-t5mx_yL",
        "outputId": "8c601283-3dfd-48d3-ca44-03b7930f2687"
      },
      "execution_count": null,
      "outputs": [
        {
          "output_type": "stream",
          "name": "stdout",
          "text": [
            "True\n",
            "True\n",
            "True\n",
            "False\n"
          ]
        }
      ]
    },
    {
      "cell_type": "code",
      "source": [
        "# not operator, negation\n",
        "print(not True)\n",
        "print(not False)"
      ],
      "metadata": {
        "colab": {
          "base_uri": "https://localhost:8080/"
        },
        "id": "oRBwfXlHyU2M",
        "outputId": "ef268545-0054-46df-d91d-dc25036b1980"
      },
      "execution_count": null,
      "outputs": [
        {
          "output_type": "stream",
          "name": "stdout",
          "text": [
            "False\n",
            "True\n"
          ]
        }
      ]
    },
    {
      "cell_type": "markdown",
      "source": [
        "find out if the text is longer than 5 characters."
      ],
      "metadata": {
        "id": "iESusO-vzDao"
      }
    },
    {
      "cell_type": "code",
      "source": [
        "text = \"Hello !\"\n",
        "\n",
        "len(text)"
      ],
      "metadata": {
        "colab": {
          "base_uri": "https://localhost:8080/"
        },
        "id": "-yb6YSOFy0Bo",
        "outputId": "c9b365f7-746d-4cbb-cf70-2a846fc4f849"
      },
      "execution_count": null,
      "outputs": [
        {
          "output_type": "execute_result",
          "data": {
            "text/plain": [
              "7"
            ]
          },
          "metadata": {},
          "execution_count": 88
        }
      ]
    },
    {
      "cell_type": "code",
      "source": [
        "if len(text) > 5:\n",
        "  print(\"tezxtr is long\")\n",
        "else:\n",
        "  print('text is shortish')"
      ],
      "metadata": {
        "colab": {
          "base_uri": "https://localhost:8080/"
        },
        "id": "pXxYlGSgzT_2",
        "outputId": "81788422-a39b-4b01-d1af-e135432c098c"
      },
      "execution_count": null,
      "outputs": [
        {
          "output_type": "stream",
          "name": "stdout",
          "text": [
            "tezxtr is long\n"
          ]
        }
      ]
    },
    {
      "cell_type": "markdown",
      "source": [
        "find out if the text contains a given the letter"
      ],
      "metadata": {
        "id": "U2mGBcjYz03k"
      }
    },
    {
      "cell_type": "code",
      "source": [
        "text = \"blablabla hello there\"\n",
        "target_letter = 'a'\n",
        "\n",
        "if target_letter in text:\n",
        "  print('Text contains', target_letter)\n",
        "else:\n",
        "  print(\"Text doesn't containt \", target_letter)"
      ],
      "metadata": {
        "colab": {
          "base_uri": "https://localhost:8080/"
        },
        "id": "JyCS1l9Ezuop",
        "outputId": "4c083095-d817-4599-e8ed-0548d4da2631"
      },
      "execution_count": null,
      "outputs": [
        {
          "output_type": "stream",
          "name": "stdout",
          "text": [
            "Text contains a\n"
          ]
        }
      ]
    },
    {
      "cell_type": "markdown",
      "source": [
        "Does the text begin with the given letter?"
      ],
      "metadata": {
        "id": "qvUA0uWk2NBS"
      }
    },
    {
      "cell_type": "code",
      "source": [
        "text = \"hello\"\n",
        "target = 'b'\n",
        "\n",
        "# python strings are zero-indexed\n",
        "len(text)"
      ],
      "metadata": {
        "colab": {
          "base_uri": "https://localhost:8080/"
        },
        "id": "lKcnnf7D2Ibg",
        "outputId": "1ea9c94e-5f92-4697-b0a2-f5e635eb3fe1"
      },
      "execution_count": null,
      "outputs": [
        {
          "output_type": "execute_result",
          "data": {
            "text/plain": [
              "5"
            ]
          },
          "metadata": {},
          "execution_count": 109
        }
      ]
    },
    {
      "cell_type": "code",
      "source": [
        "text[0], text[1], text[2], text[3], text[4]"
      ],
      "metadata": {
        "colab": {
          "base_uri": "https://localhost:8080/"
        },
        "id": "kN9j41Xs2Aua",
        "outputId": "19e8addd-0e4f-4d23-a05f-fae2169b90e7"
      },
      "execution_count": null,
      "outputs": [
        {
          "output_type": "execute_result",
          "data": {
            "text/plain": [
              "('h', 'e', 'l', 'l', 'o')"
            ]
          },
          "metadata": {},
          "execution_count": 110
        }
      ]
    },
    {
      "cell_type": "code",
      "source": [
        "text[5]"
      ],
      "metadata": {
        "colab": {
          "base_uri": "https://localhost:8080/",
          "height": 138
        },
        "id": "iq6QQNBH3SSU",
        "outputId": "f90f9f52-3d2f-4a05-fad5-2b909b777649"
      },
      "execution_count": null,
      "outputs": [
        {
          "output_type": "error",
          "ename": "IndexError",
          "evalue": "string index out of range",
          "traceback": [
            "\u001b[0;31m---------------------------------------------------------------------------\u001b[0m",
            "\u001b[0;31mIndexError\u001b[0m                                Traceback (most recent call last)",
            "\u001b[0;32m<ipython-input-111-6c046ddfa74f>\u001b[0m in \u001b[0;36m<cell line: 0>\u001b[0;34m()\u001b[0m\n\u001b[0;32m----> 1\u001b[0;31m \u001b[0mtext\u001b[0m\u001b[0;34m[\u001b[0m\u001b[0;36m5\u001b[0m\u001b[0;34m]\u001b[0m\u001b[0;34m\u001b[0m\u001b[0;34m\u001b[0m\u001b[0m\n\u001b[0m",
            "\u001b[0;31mIndexError\u001b[0m: string index out of range"
          ]
        }
      ]
    },
    {
      "cell_type": "code",
      "source": [
        "text = \"hello\"\n",
        "target = 'h'\n",
        "\n",
        "if target == text[0]:\n",
        "  print('Text starts with', target)\n",
        "else:\n",
        "  print(\"text doesn't start with \", target)"
      ],
      "metadata": {
        "colab": {
          "base_uri": "https://localhost:8080/"
        },
        "id": "oLacS3Ld3T6g",
        "outputId": "1e32ce3d-809e-4cfe-f0c5-cc431c7bed76"
      },
      "execution_count": null,
      "outputs": [
        {
          "output_type": "stream",
          "name": "stdout",
          "text": [
            "Text starts with h\n"
          ]
        }
      ]
    },
    {
      "cell_type": "code",
      "source": [
        "txt = \"Hello world, it's great to learn Python!\"\n",
        "txt[-1]"
      ],
      "metadata": {
        "colab": {
          "base_uri": "https://localhost:8080/",
          "height": 36
        },
        "id": "21-A7hAg4C33",
        "outputId": "97b5b246-180e-425e-fada-4f1cc59d3317"
      },
      "execution_count": null,
      "outputs": [
        {
          "output_type": "execute_result",
          "data": {
            "text/plain": [
              "'!'"
            ],
            "application/vnd.google.colaboratory.intrinsic+json": {
              "type": "string"
            }
          },
          "metadata": {},
          "execution_count": 123
        }
      ]
    },
    {
      "cell_type": "code",
      "source": [
        "# slicing\n",
        "txt[0:10]"
      ],
      "metadata": {
        "colab": {
          "base_uri": "https://localhost:8080/",
          "height": 36
        },
        "id": "SvHm8TCB4kdn",
        "outputId": "b2d260cd-c20e-40bb-fabf-8de1e3779705"
      },
      "execution_count": null,
      "outputs": [
        {
          "output_type": "execute_result",
          "data": {
            "text/plain": [
              "'Hello worl'"
            ],
            "application/vnd.google.colaboratory.intrinsic+json": {
              "type": "string"
            }
          },
          "metadata": {},
          "execution_count": 124
        }
      ]
    },
    {
      "cell_type": "code",
      "source": [
        "txt[10]"
      ],
      "metadata": {
        "colab": {
          "base_uri": "https://localhost:8080/",
          "height": 36
        },
        "id": "vobXL2mC5TT7",
        "outputId": "9f261c96-2a60-4ed9-8432-f7d250485b00"
      },
      "execution_count": null,
      "outputs": [
        {
          "output_type": "execute_result",
          "data": {
            "text/plain": [
              "'d'"
            ],
            "application/vnd.google.colaboratory.intrinsic+json": {
              "type": "string"
            }
          },
          "metadata": {},
          "execution_count": 125
        }
      ]
    },
    {
      "cell_type": "markdown",
      "source": [
        "## Slicing\n",
        "\n",
        "In python, slices are left-inclusive but right-exclusive.\n",
        "\n",
        "If you wanna slice from start to 5th element included, you go [0:6]!"
      ],
      "metadata": {
        "id": "ZUs7P1UJ5pO4"
      }
    },
    {
      "cell_type": "code",
      "source": [
        "txt[0:11]"
      ],
      "metadata": {
        "colab": {
          "base_uri": "https://localhost:8080/",
          "height": 36
        },
        "id": "LFKqiPSW5lhy",
        "outputId": "353493f2-0657-4d40-b230-a2fc00242593"
      },
      "execution_count": null,
      "outputs": [
        {
          "output_type": "execute_result",
          "data": {
            "text/plain": [
              "'Hello world'"
            ],
            "application/vnd.google.colaboratory.intrinsic+json": {
              "type": "string"
            }
          },
          "metadata": {},
          "execution_count": 126
        }
      ]
    },
    {
      "cell_type": "code",
      "source": [
        "# slice the text into 5-letter fragments\n",
        "txt[0:5]"
      ],
      "metadata": {
        "colab": {
          "base_uri": "https://localhost:8080/",
          "height": 36
        },
        "id": "6_wDsvwK55Zr",
        "outputId": "05b5f8db-3774-4a79-9be1-be8ebbbf7c41"
      },
      "execution_count": null,
      "outputs": [
        {
          "output_type": "execute_result",
          "data": {
            "text/plain": [
              "'Hello'"
            ],
            "application/vnd.google.colaboratory.intrinsic+json": {
              "type": "string"
            }
          },
          "metadata": {},
          "execution_count": 127
        }
      ]
    },
    {
      "cell_type": "code",
      "source": [
        "txt[5:10]"
      ],
      "metadata": {
        "colab": {
          "base_uri": "https://localhost:8080/",
          "height": 36
        },
        "id": "5ULWql8z6O3o",
        "outputId": "a1b8d81c-16c6-4179-828a-e10982f750bf"
      },
      "execution_count": null,
      "outputs": [
        {
          "output_type": "execute_result",
          "data": {
            "text/plain": [
              "' worl'"
            ],
            "application/vnd.google.colaboratory.intrinsic+json": {
              "type": "string"
            }
          },
          "metadata": {},
          "execution_count": 128
        }
      ]
    },
    {
      "cell_type": "code",
      "source": [
        "txt[10:15]"
      ],
      "metadata": {
        "colab": {
          "base_uri": "https://localhost:8080/",
          "height": 36
        },
        "id": "VNCMEabD6P6m",
        "outputId": "8a75d92a-3544-4339-8fc3-76b3b5013b27"
      },
      "execution_count": null,
      "outputs": [
        {
          "output_type": "execute_result",
          "data": {
            "text/plain": [
              "'d, it'"
            ],
            "application/vnd.google.colaboratory.intrinsic+json": {
              "type": "string"
            }
          },
          "metadata": {},
          "execution_count": 129
        }
      ]
    },
    {
      "cell_type": "code",
      "source": [
        "txt[15:20]"
      ],
      "metadata": {
        "colab": {
          "base_uri": "https://localhost:8080/",
          "height": 36
        },
        "id": "tDFfXS8Q6RH7",
        "outputId": "cb572f89-3ca3-434f-8a8a-a41e4588efab"
      },
      "execution_count": null,
      "outputs": [
        {
          "output_type": "execute_result",
          "data": {
            "text/plain": [
              "\"'s gr\""
            ],
            "application/vnd.google.colaboratory.intrinsic+json": {
              "type": "string"
            }
          },
          "metadata": {},
          "execution_count": 130
        }
      ]
    },
    {
      "cell_type": "code",
      "source": [
        "# wwhat is the i-th 5-letter fragment?\n",
        "i = 5\n",
        "txt[(i * 5):(i * 5 + 5)]"
      ],
      "metadata": {
        "colab": {
          "base_uri": "https://localhost:8080/",
          "height": 36
        },
        "id": "fcMPGv636Sb7",
        "outputId": "c6338bf4-ecec-4fd2-b307-d409f14803c2"
      },
      "execution_count": null,
      "outputs": [
        {
          "output_type": "execute_result",
          "data": {
            "text/plain": [
              "'o lea'"
            ],
            "application/vnd.google.colaboratory.intrinsic+json": {
              "type": "string"
            }
          },
          "metadata": {},
          "execution_count": 137
        }
      ]
    },
    {
      "cell_type": "code",
      "source": [
        "txt[:11]"
      ],
      "metadata": {
        "colab": {
          "base_uri": "https://localhost:8080/",
          "height": 36
        },
        "id": "KtUQyRC96sSl",
        "outputId": "31a03b9a-e631-4153-8023-94bfe17e3eac"
      },
      "execution_count": null,
      "outputs": [
        {
          "output_type": "execute_result",
          "data": {
            "text/plain": [
              "'Hello world'"
            ],
            "application/vnd.google.colaboratory.intrinsic+json": {
              "type": "string"
            }
          },
          "metadata": {},
          "execution_count": 139
        }
      ]
    },
    {
      "cell_type": "code",
      "source": [
        "txt[11:]"
      ],
      "metadata": {
        "colab": {
          "base_uri": "https://localhost:8080/",
          "height": 36
        },
        "id": "LfBARYiJ7HDL",
        "outputId": "07356743-1ed1-4881-b487-11ec258657c2"
      },
      "execution_count": null,
      "outputs": [
        {
          "output_type": "execute_result",
          "data": {
            "text/plain": [
              "\", it's great to learn Python!\""
            ],
            "application/vnd.google.colaboratory.intrinsic+json": {
              "type": "string"
            }
          },
          "metadata": {},
          "execution_count": 140
        }
      ]
    },
    {
      "cell_type": "code",
      "source": [
        "# cut the string in half\n",
        "cut = 11\n",
        "print('First half: ', txt[:cut])\n",
        "print('Second half: ', txt[cut:])"
      ],
      "metadata": {
        "colab": {
          "base_uri": "https://localhost:8080/"
        },
        "id": "fwls4ret7Nbj",
        "outputId": "0eb41881-2bc4-4da8-ac16-4295dac29df4"
      },
      "execution_count": null,
      "outputs": [
        {
          "output_type": "stream",
          "name": "stdout",
          "text": [
            "First half:  Hello world\n",
            "Second half:  , it's great to learn Python!\n"
          ]
        }
      ]
    },
    {
      "cell_type": "code",
      "source": [
        "txt[0:15:2]"
      ],
      "metadata": {
        "colab": {
          "base_uri": "https://localhost:8080/",
          "height": 36
        },
        "id": "YyaIYqKi7YMv",
        "outputId": "7a0190c6-d927-4237-aa65-780bcbf82b89"
      },
      "execution_count": null,
      "outputs": [
        {
          "output_type": "execute_result",
          "data": {
            "text/plain": [
              "'Hlowrd t'"
            ],
            "application/vnd.google.colaboratory.intrinsic+json": {
              "type": "string"
            }
          },
          "metadata": {},
          "execution_count": 145
        }
      ]
    },
    {
      "cell_type": "code",
      "source": [
        "txt[1:15:2]"
      ],
      "metadata": {
        "colab": {
          "base_uri": "https://localhost:8080/",
          "height": 36
        },
        "id": "tLgy3u1t77WY",
        "outputId": "23fb5608-3bbf-4eca-d3af-5cc0ad14bb63"
      },
      "execution_count": null,
      "outputs": [
        {
          "output_type": "execute_result",
          "data": {
            "text/plain": [
              "'el ol,i'"
            ],
            "application/vnd.google.colaboratory.intrinsic+json": {
              "type": "string"
            }
          },
          "metadata": {},
          "execution_count": 146
        }
      ]
    },
    {
      "cell_type": "code",
      "source": [
        "txt[::4]"
      ],
      "metadata": {
        "colab": {
          "base_uri": "https://localhost:8080/",
          "height": 36
        },
        "id": "n1TM5reL8CiX",
        "outputId": "5be0fa99-d9d5-46dc-e75e-53ceb856a752"
      },
      "execution_count": null,
      "outputs": [
        {
          "output_type": "execute_result",
          "data": {
            "text/plain": [
              "'Hor sete h'"
            ],
            "application/vnd.google.colaboratory.intrinsic+json": {
              "type": "string"
            }
          },
          "metadata": {},
          "execution_count": 147
        }
      ]
    },
    {
      "cell_type": "code",
      "source": [
        "txt[0:len(txt):4]"
      ],
      "metadata": {
        "colab": {
          "base_uri": "https://localhost:8080/",
          "height": 36
        },
        "id": "uG_X8JZ28L0u",
        "outputId": "d0b9b253-b566-4278-f14c-72e7317e256d"
      },
      "execution_count": null,
      "outputs": [
        {
          "output_type": "execute_result",
          "data": {
            "text/plain": [
              "'Hor sete h'"
            ],
            "application/vnd.google.colaboratory.intrinsic+json": {
              "type": "string"
            }
          },
          "metadata": {},
          "execution_count": 148
        }
      ]
    },
    {
      "cell_type": "markdown",
      "source": [
        "Print the text, right to left."
      ],
      "metadata": {
        "id": "zF0hhvOS8vqj"
      }
    },
    {
      "cell_type": "code",
      "source": [
        "txt"
      ],
      "metadata": {
        "colab": {
          "base_uri": "https://localhost:8080/",
          "height": 36
        },
        "id": "gif4eFXt8cMw",
        "outputId": "280b1227-ec44-495a-d56a-f66b13bf7d80"
      },
      "execution_count": null,
      "outputs": [
        {
          "output_type": "execute_result",
          "data": {
            "text/plain": [
              "\"Hello world, it's great to learn Python!\""
            ],
            "application/vnd.google.colaboratory.intrinsic+json": {
              "type": "string"
            }
          },
          "metadata": {},
          "execution_count": 152
        }
      ]
    },
    {
      "cell_type": "code",
      "source": [
        "txt[::-1]"
      ],
      "metadata": {
        "colab": {
          "base_uri": "https://localhost:8080/",
          "height": 36
        },
        "id": "zl2M8l3V84Uv",
        "outputId": "c5f0fb58-084e-4cad-9f88-724cdb942217"
      },
      "execution_count": null,
      "outputs": [
        {
          "output_type": "execute_result",
          "data": {
            "text/plain": [
              "\"!nohtyP nrael ot taerg s'ti ,dlrow olleH\""
            ],
            "application/vnd.google.colaboratory.intrinsic+json": {
              "type": "string"
            }
          },
          "metadata": {},
          "execution_count": 156
        }
      ]
    },
    {
      "cell_type": "code",
      "source": [
        "list(range(0, 10))"
      ],
      "metadata": {
        "colab": {
          "base_uri": "https://localhost:8080/"
        },
        "id": "zkPpcFV09Czh",
        "outputId": "011e7545-01a9-4d3e-f260-8266dc71cd3f"
      },
      "execution_count": null,
      "outputs": [
        {
          "output_type": "execute_result",
          "data": {
            "text/plain": [
              "[0, 1, 2, 3, 4, 5, 6, 7, 8, 9]"
            ]
          },
          "metadata": {},
          "execution_count": 158
        }
      ]
    },
    {
      "cell_type": "code",
      "source": [
        "list(range(5, 15))"
      ],
      "metadata": {
        "colab": {
          "base_uri": "https://localhost:8080/"
        },
        "id": "ahBccTkS9kP2",
        "outputId": "1c635ee3-b633-4bf1-8655-949a61bc714b"
      },
      "execution_count": null,
      "outputs": [
        {
          "output_type": "execute_result",
          "data": {
            "text/plain": [
              "[5, 6, 7, 8, 9, 10, 11, 12, 13, 14]"
            ]
          },
          "metadata": {},
          "execution_count": 159
        }
      ]
    },
    {
      "cell_type": "code",
      "source": [
        "list(range(15, 0, -1))"
      ],
      "metadata": {
        "colab": {
          "base_uri": "https://localhost:8080/"
        },
        "id": "rdtoutTt9p41",
        "outputId": "1290d145-7ff5-46d2-87ff-c39e1cdf2165"
      },
      "execution_count": null,
      "outputs": [
        {
          "output_type": "execute_result",
          "data": {
            "text/plain": [
              "[15, 14, 13, 12, 11, 10, 9, 8, 7, 6, 5, 4, 3, 2, 1]"
            ]
          },
          "metadata": {},
          "execution_count": 164
        }
      ]
    },
    {
      "cell_type": "code",
      "source": [],
      "metadata": {
        "id": "3RrLk3pa9ts1"
      },
      "execution_count": null,
      "outputs": []
    }
  ]
}