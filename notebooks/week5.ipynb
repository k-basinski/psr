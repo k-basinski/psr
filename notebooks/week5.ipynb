{
  "nbformat": 4,
  "nbformat_minor": 0,
  "metadata": {
    "colab": {
      "provenance": []
    },
    "kernelspec": {
      "name": "python3",
      "display_name": "Python 3"
    },
    "language_info": {
      "name": "python"
    }
  },
  "cells": [
    {
      "cell_type": "code",
      "execution_count": null,
      "metadata": {
        "colab": {
          "base_uri": "https://localhost:8080/"
        },
        "id": "3SSwi91Y_vV-",
        "outputId": "cf26727f-af60-4aa9-96db-219f8f71f279"
      },
      "outputs": [
        {
          "output_type": "stream",
          "name": "stdout",
          "text": [
            "nay!\n"
          ]
        }
      ],
      "source": [
        "l = [1, 2, 3, 4, 7]\n",
        "if '3' in l:\n",
        "  print('yey')\n",
        "else:\n",
        "  print('nay!')"
      ]
    },
    {
      "cell_type": "code",
      "source": [
        "'d' in 'bflaenfoaienfad'"
      ],
      "metadata": {
        "colab": {
          "base_uri": "https://localhost:8080/"
        },
        "id": "NcGK4iRDAAFS",
        "outputId": "93f6d8ba-b1c2-4e23-f2f7-c1b3700aab79"
      },
      "execution_count": null,
      "outputs": [
        {
          "output_type": "execute_result",
          "data": {
            "text/plain": [
              "True"
            ]
          },
          "metadata": {},
          "execution_count": 4
        }
      ]
    },
    {
      "cell_type": "code",
      "source": [
        "'p' in 'aksdfjhkasef'"
      ],
      "metadata": {
        "colab": {
          "base_uri": "https://localhost:8080/"
        },
        "id": "vxZsXKJtAiRS",
        "outputId": "461099bc-8ef0-4386-831a-8bd2bf834ce7"
      },
      "execution_count": null,
      "outputs": [
        {
          "output_type": "execute_result",
          "data": {
            "text/plain": [
              "False"
            ]
          },
          "metadata": {},
          "execution_count": 6
        }
      ]
    },
    {
      "cell_type": "code",
      "source": [
        "animals = [\n",
        "    'dog',\n",
        "    'cat',\n",
        "    'zebra',\n",
        "    'mouse',\n",
        "    'hippopotamus',\n",
        "    'lion'\n",
        "]\n",
        "len(animals)"
      ],
      "metadata": {
        "colab": {
          "base_uri": "https://localhost:8080/"
        },
        "id": "m6CeD3BCA2dl",
        "outputId": "7e55b0d8-5798-40ed-ddb6-1256b3e427d2"
      },
      "execution_count": null,
      "outputs": [
        {
          "output_type": "execute_result",
          "data": {
            "text/plain": [
              "6"
            ]
          },
          "metadata": {},
          "execution_count": 7
        }
      ]
    },
    {
      "cell_type": "code",
      "source": [
        "len('word')"
      ],
      "metadata": {
        "colab": {
          "base_uri": "https://localhost:8080/"
        },
        "id": "EFnDTk5_B9Ws",
        "outputId": "fca50e5b-ae73-49c9-c1a5-1b25637eb176"
      },
      "execution_count": null,
      "outputs": [
        {
          "output_type": "execute_result",
          "data": {
            "text/plain": [
              "4"
            ]
          },
          "metadata": {},
          "execution_count": 8
        }
      ]
    },
    {
      "cell_type": "markdown",
      "source": [
        "## Iteration"
      ],
      "metadata": {
        "id": "BCJBoXhKCjzT"
      }
    },
    {
      "cell_type": "code",
      "source": [
        "for animal in animals:\n",
        "  animal_length = len(animal)\n",
        "  print(f'The {animal} has {animal_length} letters.')"
      ],
      "metadata": {
        "colab": {
          "base_uri": "https://localhost:8080/"
        },
        "id": "jk-IbL32CYcC",
        "outputId": "3f1d07fc-79c2-497f-a598-554442ba0e55"
      },
      "execution_count": null,
      "outputs": [
        {
          "output_type": "stream",
          "name": "stdout",
          "text": [
            "The dog has 3 letters.\n",
            "The cat has 3 letters.\n",
            "The zebra has 5 letters.\n",
            "The mouse has 5 letters.\n",
            "The hippopotamus has 12 letters.\n",
            "The lion has 4 letters.\n"
          ]
        }
      ]
    },
    {
      "cell_type": "code",
      "source": [
        "for a in animals:\n",
        "  print(a)"
      ],
      "metadata": {
        "colab": {
          "base_uri": "https://localhost:8080/"
        },
        "id": "lGc8AcOKCzP4",
        "outputId": "9018fbae-3204-476a-ae69-5b23db44e474"
      },
      "execution_count": null,
      "outputs": [
        {
          "output_type": "stream",
          "name": "stdout",
          "text": [
            "dog\n",
            "cat\n",
            "zebra\n",
            "mouse\n",
            "hippopotamus\n",
            "lion\n"
          ]
        }
      ]
    },
    {
      "cell_type": "markdown",
      "source": [
        "The things you iterate over are _iterables_."
      ],
      "metadata": {
        "id": "KYx8XJpJEJE7"
      }
    },
    {
      "cell_type": "code",
      "source": [
        "for c in 'blablabla':\n",
        "  print(c)"
      ],
      "metadata": {
        "colab": {
          "base_uri": "https://localhost:8080/"
        },
        "id": "dNIVU3q4D-6h",
        "outputId": "b90317c0-e3fd-4d03-e2f6-75574c66d4fa"
      },
      "execution_count": null,
      "outputs": [
        {
          "output_type": "stream",
          "name": "stdout",
          "text": [
            "b\n",
            "l\n",
            "a\n",
            "b\n",
            "l\n",
            "a\n",
            "b\n",
            "l\n",
            "a\n"
          ]
        }
      ]
    },
    {
      "cell_type": "markdown",
      "source": [
        "Figure out, how to count the number of _a_'s (the letter A) inside an arbitrary string. Use a `for` loop."
      ],
      "metadata": {
        "id": "r_EJerwFEkZ3"
      }
    },
    {
      "cell_type": "code",
      "source": [
        "text = 'Albert'\n",
        "\n",
        "# counter\n",
        "i = 0\n",
        "\n",
        "for c in text:\n",
        "  if (c == \"a\") or (c == 'A'):\n",
        "    # incrementation\n",
        "    i += 1\n",
        "\n",
        "print(i)"
      ],
      "metadata": {
        "colab": {
          "base_uri": "https://localhost:8080/"
        },
        "id": "CEuf9ERMERlZ",
        "outputId": "b2914bb6-dbbf-41ca-e68c-730b2b4d8bdd"
      },
      "execution_count": null,
      "outputs": [
        {
          "output_type": "stream",
          "name": "stdout",
          "text": [
            "1\n"
          ]
        }
      ]
    },
    {
      "cell_type": "code",
      "source": [
        "'A' == 'a'"
      ],
      "metadata": {
        "colab": {
          "base_uri": "https://localhost:8080/"
        },
        "id": "71rqhX2yFa__",
        "outputId": "f8ae1443-204a-4427-db6f-461d22532960"
      },
      "execution_count": null,
      "outputs": [
        {
          "output_type": "execute_result",
          "data": {
            "text/plain": [
              "False"
            ]
          },
          "metadata": {},
          "execution_count": 19
        }
      ]
    },
    {
      "cell_type": "code",
      "source": [
        "'BLABLBAadsfasdfa'.upper()"
      ],
      "metadata": {
        "colab": {
          "base_uri": "https://localhost:8080/",
          "height": 35
        },
        "id": "W7DbYGidGTmh",
        "outputId": "4e2518c5-2c65-471b-f86c-58ce6b010cf3"
      },
      "execution_count": null,
      "outputs": [
        {
          "output_type": "execute_result",
          "data": {
            "text/plain": [
              "'BLABLBAADSFASDFA'"
            ],
            "application/vnd.google.colaboratory.intrinsic+json": {
              "type": "string"
            }
          },
          "metadata": {},
          "execution_count": 22
        }
      ]
    },
    {
      "cell_type": "code",
      "source": [
        "text = 'blablabla'\n",
        "text.upper()"
      ],
      "metadata": {
        "colab": {
          "base_uri": "https://localhost:8080/",
          "height": 35
        },
        "id": "h8HhqVU1GhRO",
        "outputId": "1dd72e0c-c5aa-4a4a-a3f2-b2f58d026ce6"
      },
      "execution_count": null,
      "outputs": [
        {
          "output_type": "execute_result",
          "data": {
            "text/plain": [
              "'BLABLABLA'"
            ],
            "application/vnd.google.colaboratory.intrinsic+json": {
              "type": "string"
            }
          },
          "metadata": {},
          "execution_count": 23
        }
      ]
    },
    {
      "cell_type": "code",
      "source": [
        "animals"
      ],
      "metadata": {
        "colab": {
          "base_uri": "https://localhost:8080/"
        },
        "id": "Ydg0pG-xGqQM",
        "outputId": "f7444268-a819-412c-816e-53de5c041d80"
      },
      "execution_count": null,
      "outputs": [
        {
          "output_type": "execute_result",
          "data": {
            "text/plain": [
              "['dog', 'cat', 'zebra', 'mouse', 'hippopotamus', 'lion']"
            ]
          },
          "metadata": {},
          "execution_count": 26
        }
      ]
    },
    {
      "cell_type": "markdown",
      "source": [
        "Print out all the animals that start with Z."
      ],
      "metadata": {
        "id": "DPpw6YmsHLlS"
      }
    },
    {
      "cell_type": "code",
      "source": [
        "for animal in animals:\n",
        "  if i == \"Z\":\n",
        "    print(animal)"
      ],
      "metadata": {
        "id": "1prUsxwRHEqx"
      },
      "execution_count": null,
      "outputs": []
    },
    {
      "cell_type": "code",
      "source": [
        "t = 'mouse'"
      ],
      "metadata": {
        "id": "H9RhRfnYH48s"
      },
      "execution_count": null,
      "outputs": []
    },
    {
      "cell_type": "code",
      "source": [
        "t[0]"
      ],
      "metadata": {
        "colab": {
          "base_uri": "https://localhost:8080/",
          "height": 35
        },
        "id": "sEvyJ8bZIJs-",
        "outputId": "0af4f885-92a3-4369-8221-65110e0ab135"
      },
      "execution_count": null,
      "outputs": [
        {
          "output_type": "execute_result",
          "data": {
            "text/plain": [
              "'m'"
            ],
            "application/vnd.google.colaboratory.intrinsic+json": {
              "type": "string"
            }
          },
          "metadata": {},
          "execution_count": 29
        }
      ]
    },
    {
      "cell_type": "code",
      "source": [
        "for animal in animals:\n",
        "  if animal[0] == \"z\":\n",
        "    print(animal)"
      ],
      "metadata": {
        "colab": {
          "base_uri": "https://localhost:8080/"
        },
        "id": "PWZf2r5RIgU3",
        "outputId": "550059de-802b-413f-c646-fdce0fb99ff2"
      },
      "execution_count": null,
      "outputs": [
        {
          "output_type": "stream",
          "name": "stdout",
          "text": [
            "zebra\n"
          ]
        }
      ]
    },
    {
      "cell_type": "code",
      "source": [
        "animals.remove('zebra')\n"
      ],
      "metadata": {
        "id": "jtPz-jJFIMYa"
      },
      "execution_count": null,
      "outputs": []
    },
    {
      "cell_type": "code",
      "source": [
        "for animal in animals:\n",
        "  print(f'Checking animal {animal}...')\n",
        "  if animal[0] == \"z\":\n",
        "    print(animal)"
      ],
      "metadata": {
        "colab": {
          "base_uri": "https://localhost:8080/"
        },
        "id": "U1vA8lEvItrf",
        "outputId": "980d28c4-0a22-4c7c-8164-b06a757df6b8"
      },
      "execution_count": null,
      "outputs": [
        {
          "output_type": "stream",
          "name": "stdout",
          "text": [
            "Checking animal dog...\n",
            "Checking animal cat...\n",
            "Checking animal mouse...\n",
            "Checking animal hippopotamus...\n",
            "Checking animal lion...\n"
          ]
        }
      ]
    },
    {
      "cell_type": "code",
      "source": [
        "for x in animals:\n",
        "  if x[-1] == 's':\n",
        "    print(f'{x} ends with an s')"
      ],
      "metadata": {
        "colab": {
          "base_uri": "https://localhost:8080/"
        },
        "id": "2Wc_yZEMIxqp",
        "outputId": "83502a4f-cfb8-490f-bf77-2ff47248bfdb"
      },
      "execution_count": null,
      "outputs": [
        {
          "output_type": "stream",
          "name": "stdout",
          "text": [
            "hippopotamus ends with an s\n"
          ]
        }
      ]
    },
    {
      "cell_type": "code",
      "source": [
        "r = range(1, 100)\n",
        "type(r)"
      ],
      "metadata": {
        "colab": {
          "base_uri": "https://localhost:8080/"
        },
        "id": "Ju_aDv65JKr_",
        "outputId": "d84f98c4-8452-4765-8b82-9dcf8426eef7"
      },
      "execution_count": null,
      "outputs": [
        {
          "output_type": "execute_result",
          "data": {
            "text/plain": [
              "range"
            ]
          },
          "metadata": {},
          "execution_count": 39
        }
      ]
    },
    {
      "cell_type": "code",
      "source": [
        "list(r)"
      ],
      "metadata": {
        "colab": {
          "base_uri": "https://localhost:8080/"
        },
        "id": "nExIjQTTKGIc",
        "outputId": "e757dd63-7d9e-4dc5-af8e-ed2bab3ffa9e"
      },
      "execution_count": null,
      "outputs": [
        {
          "output_type": "execute_result",
          "data": {
            "text/plain": [
              "[1,\n",
              " 2,\n",
              " 3,\n",
              " 4,\n",
              " 5,\n",
              " 6,\n",
              " 7,\n",
              " 8,\n",
              " 9,\n",
              " 10,\n",
              " 11,\n",
              " 12,\n",
              " 13,\n",
              " 14,\n",
              " 15,\n",
              " 16,\n",
              " 17,\n",
              " 18,\n",
              " 19,\n",
              " 20,\n",
              " 21,\n",
              " 22,\n",
              " 23,\n",
              " 24,\n",
              " 25,\n",
              " 26,\n",
              " 27,\n",
              " 28,\n",
              " 29,\n",
              " 30,\n",
              " 31,\n",
              " 32,\n",
              " 33,\n",
              " 34,\n",
              " 35,\n",
              " 36,\n",
              " 37,\n",
              " 38,\n",
              " 39,\n",
              " 40,\n",
              " 41,\n",
              " 42,\n",
              " 43,\n",
              " 44,\n",
              " 45,\n",
              " 46,\n",
              " 47,\n",
              " 48,\n",
              " 49,\n",
              " 50,\n",
              " 51,\n",
              " 52,\n",
              " 53,\n",
              " 54,\n",
              " 55,\n",
              " 56,\n",
              " 57,\n",
              " 58,\n",
              " 59,\n",
              " 60,\n",
              " 61,\n",
              " 62,\n",
              " 63,\n",
              " 64,\n",
              " 65,\n",
              " 66,\n",
              " 67,\n",
              " 68,\n",
              " 69,\n",
              " 70,\n",
              " 71,\n",
              " 72,\n",
              " 73,\n",
              " 74,\n",
              " 75,\n",
              " 76,\n",
              " 77,\n",
              " 78,\n",
              " 79,\n",
              " 80,\n",
              " 81,\n",
              " 82,\n",
              " 83,\n",
              " 84,\n",
              " 85,\n",
              " 86,\n",
              " 87,\n",
              " 88,\n",
              " 89,\n",
              " 90,\n",
              " 91,\n",
              " 92,\n",
              " 93,\n",
              " 94,\n",
              " 95,\n",
              " 96,\n",
              " 97,\n",
              " 98,\n",
              " 99]"
            ]
          },
          "metadata": {},
          "execution_count": 40
        }
      ]
    },
    {
      "cell_type": "code",
      "source": [
        "i = 0\n",
        "\n",
        "for n in range(1, 101):\n",
        "  i += n\n",
        "\n",
        "print(i)"
      ],
      "metadata": {
        "colab": {
          "base_uri": "https://localhost:8080/"
        },
        "id": "pM804L85KnC5",
        "outputId": "e25ac948-ce99-4497-9be4-8e70216bac41"
      },
      "execution_count": null,
      "outputs": [
        {
          "output_type": "stream",
          "name": "stdout",
          "text": [
            "5050\n"
          ]
        }
      ]
    },
    {
      "cell_type": "code",
      "source": [
        "list(range(1, 10))"
      ],
      "metadata": {
        "colab": {
          "base_uri": "https://localhost:8080/"
        },
        "id": "9IMJAV_YLEcu",
        "outputId": "46289f42-9d67-4034-f82a-341e17518bef"
      },
      "execution_count": null,
      "outputs": [
        {
          "output_type": "execute_result",
          "data": {
            "text/plain": [
              "[1, 2, 3, 4, 5, 6, 7, 8, 9]"
            ]
          },
          "metadata": {},
          "execution_count": 42
        }
      ]
    },
    {
      "cell_type": "code",
      "source": [
        "list(range(20))"
      ],
      "metadata": {
        "colab": {
          "base_uri": "https://localhost:8080/"
        },
        "id": "HVJxzjlwLlTp",
        "outputId": "051813d4-cff5-46cd-bbe1-65d54e7f4e4f"
      },
      "execution_count": null,
      "outputs": [
        {
          "output_type": "execute_result",
          "data": {
            "text/plain": [
              "[0, 1, 2, 3, 4, 5, 6, 7, 8, 9, 10, 11, 12, 13, 14, 15, 16, 17, 18, 19]"
            ]
          },
          "metadata": {},
          "execution_count": 43
        }
      ]
    },
    {
      "cell_type": "code",
      "source": [
        "for i in range(100):\n",
        "  print(\"hello\")"
      ],
      "metadata": {
        "colab": {
          "base_uri": "https://localhost:8080/"
        },
        "id": "NxW18W8JLw5-",
        "outputId": "4e9a7053-96a0-44df-d3da-16a963bd3508"
      },
      "execution_count": null,
      "outputs": [
        {
          "output_type": "stream",
          "name": "stdout",
          "text": [
            "hello\n",
            "hello\n",
            "hello\n",
            "hello\n",
            "hello\n",
            "hello\n",
            "hello\n",
            "hello\n",
            "hello\n",
            "hello\n",
            "hello\n",
            "hello\n",
            "hello\n",
            "hello\n",
            "hello\n",
            "hello\n",
            "hello\n",
            "hello\n",
            "hello\n",
            "hello\n",
            "hello\n",
            "hello\n",
            "hello\n",
            "hello\n",
            "hello\n",
            "hello\n",
            "hello\n",
            "hello\n",
            "hello\n",
            "hello\n",
            "hello\n",
            "hello\n",
            "hello\n",
            "hello\n",
            "hello\n",
            "hello\n",
            "hello\n",
            "hello\n",
            "hello\n",
            "hello\n",
            "hello\n",
            "hello\n",
            "hello\n",
            "hello\n",
            "hello\n",
            "hello\n",
            "hello\n",
            "hello\n",
            "hello\n",
            "hello\n",
            "hello\n",
            "hello\n",
            "hello\n",
            "hello\n",
            "hello\n",
            "hello\n",
            "hello\n",
            "hello\n",
            "hello\n",
            "hello\n",
            "hello\n",
            "hello\n",
            "hello\n",
            "hello\n",
            "hello\n",
            "hello\n",
            "hello\n",
            "hello\n",
            "hello\n",
            "hello\n",
            "hello\n",
            "hello\n",
            "hello\n",
            "hello\n",
            "hello\n",
            "hello\n",
            "hello\n",
            "hello\n",
            "hello\n",
            "hello\n",
            "hello\n",
            "hello\n",
            "hello\n",
            "hello\n",
            "hello\n",
            "hello\n",
            "hello\n",
            "hello\n",
            "hello\n",
            "hello\n",
            "hello\n",
            "hello\n",
            "hello\n",
            "hello\n",
            "hello\n",
            "hello\n",
            "hello\n",
            "hello\n",
            "hello\n",
            "hello\n"
          ]
        }
      ]
    },
    {
      "cell_type": "code",
      "source": [
        "l = list(range(0,20))\n",
        "l"
      ],
      "metadata": {
        "colab": {
          "base_uri": "https://localhost:8080/"
        },
        "id": "qmNYkzGJL7CH",
        "outputId": "e75a3460-3a56-40da-c7e6-85c28d25f343"
      },
      "execution_count": null,
      "outputs": [
        {
          "output_type": "execute_result",
          "data": {
            "text/plain": [
              "[0, 1, 2, 3, 4, 5, 6, 7, 8, 9, 10, 11, 12, 13, 14, 15, 16, 17, 18, 19]"
            ]
          },
          "metadata": {},
          "execution_count": 48
        }
      ]
    },
    {
      "cell_type": "code",
      "source": [
        "l[5:15:2]"
      ],
      "metadata": {
        "colab": {
          "base_uri": "https://localhost:8080/"
        },
        "id": "2mmo7WkuMO_m",
        "outputId": "f6a94094-ffc5-42c9-aa68-d022674baf66"
      },
      "execution_count": null,
      "outputs": [
        {
          "output_type": "execute_result",
          "data": {
            "text/plain": [
              "[5, 7, 9, 11, 13]"
            ]
          },
          "metadata": {},
          "execution_count": 49
        }
      ]
    },
    {
      "cell_type": "code",
      "source": [
        "list(range(5, 15, 2))"
      ],
      "metadata": {
        "colab": {
          "base_uri": "https://localhost:8080/"
        },
        "id": "baHaBfFmMaBR",
        "outputId": "cc733e88-d7d0-4acb-9d3d-a4d169647753"
      },
      "execution_count": null,
      "outputs": [
        {
          "output_type": "execute_result",
          "data": {
            "text/plain": [
              "[5, 7, 9, 11, 13]"
            ]
          },
          "metadata": {},
          "execution_count": 50
        }
      ]
    },
    {
      "cell_type": "code",
      "source": [
        "g = 'AGTCAGTCGATAGCCAA'\n",
        "g[::3]"
      ],
      "metadata": {
        "colab": {
          "base_uri": "https://localhost:8080/",
          "height": 35
        },
        "id": "vu_8FxwjMf_4",
        "outputId": "ac17d5ce-b6a7-4913-b29a-43fc0766038a"
      },
      "execution_count": null,
      "outputs": [
        {
          "output_type": "execute_result",
          "data": {
            "text/plain": [
              "'ACTAGA'"
            ],
            "application/vnd.google.colaboratory.intrinsic+json": {
              "type": "string"
            }
          },
          "metadata": {},
          "execution_count": 51
        }
      ]
    },
    {
      "cell_type": "code",
      "source": [
        "g[::4]"
      ],
      "metadata": {
        "colab": {
          "base_uri": "https://localhost:8080/",
          "height": 35
        },
        "id": "PPFGVmlCNB06",
        "outputId": "8bb7ffdd-9333-4502-d5b4-f0b9b536c2eb"
      },
      "execution_count": null,
      "outputs": [
        {
          "output_type": "execute_result",
          "data": {
            "text/plain": [
              "'AAGGA'"
            ],
            "application/vnd.google.colaboratory.intrinsic+json": {
              "type": "string"
            }
          },
          "metadata": {},
          "execution_count": 52
        }
      ]
    },
    {
      "cell_type": "code",
      "source": [
        "for i in range(0,10,3):\n",
        "  print(g[i])"
      ],
      "metadata": {
        "colab": {
          "base_uri": "https://localhost:8080/"
        },
        "id": "7ddKTScTNDOe",
        "outputId": "c077505c-cadd-4943-e087-7c35733efbcf"
      },
      "execution_count": null,
      "outputs": [
        {
          "output_type": "stream",
          "name": "stdout",
          "text": [
            "A\n",
            "C\n",
            "T\n",
            "A\n"
          ]
        }
      ]
    },
    {
      "cell_type": "code",
      "source": [
        "len(g)"
      ],
      "metadata": {
        "colab": {
          "base_uri": "https://localhost:8080/"
        },
        "id": "vrt6NKcnNJes",
        "outputId": "26deeb47-c189-4e89-91b0-2b6f1a8e9937"
      },
      "execution_count": null,
      "outputs": [
        {
          "output_type": "execute_result",
          "data": {
            "text/plain": [
              "17"
            ]
          },
          "metadata": {},
          "execution_count": 55
        }
      ]
    },
    {
      "cell_type": "markdown",
      "source": [
        "## WHILE loop"
      ],
      "metadata": {
        "id": "534KT3bzNu-e"
      }
    },
    {
      "cell_type": "code",
      "source": [
        "i = 0\n",
        "\n",
        "while i < 10:\n",
        "  print(f'i is still smaller then ten. i is {i}')\n",
        "  i += 1 # equivalent to i = i + 1\n",
        "\n"
      ],
      "metadata": {
        "colab": {
          "base_uri": "https://localhost:8080/"
        },
        "id": "QBW7PIkmNPk3",
        "outputId": "e87276af-cb12-4006-bae5-f7852e495a29"
      },
      "execution_count": null,
      "outputs": [
        {
          "output_type": "stream",
          "name": "stdout",
          "text": [
            "i is still smaller then ten. i is 0\n",
            "i is still smaller then ten. i is 1\n",
            "i is still smaller then ten. i is 2\n",
            "i is still smaller then ten. i is 3\n",
            "i is still smaller then ten. i is 4\n",
            "i is still smaller then ten. i is 5\n",
            "i is still smaller then ten. i is 6\n",
            "i is still smaller then ten. i is 7\n",
            "i is still smaller then ten. i is 8\n",
            "i is still smaller then ten. i is 9\n"
          ]
        }
      ]
    },
    {
      "cell_type": "code",
      "source": [
        "animals"
      ],
      "metadata": {
        "colab": {
          "base_uri": "https://localhost:8080/"
        },
        "id": "feulBjgbOCIN",
        "outputId": "f8b5c3c6-77b4-4fe2-80fd-2cfdbdd63fb9"
      },
      "execution_count": null,
      "outputs": [
        {
          "output_type": "execute_result",
          "data": {
            "text/plain": [
              "['dog', 'cat', 'mouse', 'hippopotamus', 'lion']"
            ]
          },
          "metadata": {},
          "execution_count": 58
        }
      ]
    },
    {
      "cell_type": "code",
      "source": [
        "i = 0\n",
        "\n",
        "while i < len(animals):\n",
        "  if len(animals[i]) > 5:\n",
        "    print(animals[i])\n",
        "  i += 1"
      ],
      "metadata": {
        "colab": {
          "base_uri": "https://localhost:8080/"
        },
        "id": "cXuBUrrFPLpn",
        "outputId": "37ed5cfb-73e3-49eb-dfb8-1350d6a91598"
      },
      "execution_count": null,
      "outputs": [
        {
          "output_type": "stream",
          "name": "stdout",
          "text": [
            "hippopotamus\n"
          ]
        }
      ]
    },
    {
      "cell_type": "code",
      "source": [
        "for animal in animals:\n",
        "  if len(animal) > 5:\n",
        "    print(animal)"
      ],
      "metadata": {
        "colab": {
          "base_uri": "https://localhost:8080/"
        },
        "id": "Fo0IQDaGPf88",
        "outputId": "695fc55d-4871-4d89-f2de-a42e95a8de9a"
      },
      "execution_count": null,
      "outputs": [
        {
          "output_type": "stream",
          "name": "stdout",
          "text": [
            "hippopotamus\n"
          ]
        }
      ]
    },
    {
      "cell_type": "code",
      "source": [
        "i = 0\n",
        "while True:\n",
        "  print(f'{i} to the power of 2 is {i ** 2}')\n",
        "  i += 1\n",
        "  if i > 100:\n",
        "    break\n",
        "\n"
      ],
      "metadata": {
        "colab": {
          "base_uri": "https://localhost:8080/"
        },
        "id": "Rtv9Z_lHPwNt",
        "outputId": "3c66077e-8a33-43f4-afa9-8f7eb820c17c"
      },
      "execution_count": null,
      "outputs": [
        {
          "output_type": "stream",
          "name": "stdout",
          "text": [
            "0 to the power of 2 is 0\n",
            "1 to the power of 2 is 1\n",
            "2 to the power of 2 is 4\n",
            "3 to the power of 2 is 9\n",
            "4 to the power of 2 is 16\n",
            "5 to the power of 2 is 25\n",
            "6 to the power of 2 is 36\n",
            "7 to the power of 2 is 49\n",
            "8 to the power of 2 is 64\n",
            "9 to the power of 2 is 81\n",
            "10 to the power of 2 is 100\n",
            "11 to the power of 2 is 121\n",
            "12 to the power of 2 is 144\n",
            "13 to the power of 2 is 169\n",
            "14 to the power of 2 is 196\n",
            "15 to the power of 2 is 225\n",
            "16 to the power of 2 is 256\n",
            "17 to the power of 2 is 289\n",
            "18 to the power of 2 is 324\n",
            "19 to the power of 2 is 361\n",
            "20 to the power of 2 is 400\n",
            "21 to the power of 2 is 441\n",
            "22 to the power of 2 is 484\n",
            "23 to the power of 2 is 529\n",
            "24 to the power of 2 is 576\n",
            "25 to the power of 2 is 625\n",
            "26 to the power of 2 is 676\n",
            "27 to the power of 2 is 729\n",
            "28 to the power of 2 is 784\n",
            "29 to the power of 2 is 841\n",
            "30 to the power of 2 is 900\n",
            "31 to the power of 2 is 961\n",
            "32 to the power of 2 is 1024\n",
            "33 to the power of 2 is 1089\n",
            "34 to the power of 2 is 1156\n",
            "35 to the power of 2 is 1225\n",
            "36 to the power of 2 is 1296\n",
            "37 to the power of 2 is 1369\n",
            "38 to the power of 2 is 1444\n",
            "39 to the power of 2 is 1521\n",
            "40 to the power of 2 is 1600\n",
            "41 to the power of 2 is 1681\n",
            "42 to the power of 2 is 1764\n",
            "43 to the power of 2 is 1849\n",
            "44 to the power of 2 is 1936\n",
            "45 to the power of 2 is 2025\n",
            "46 to the power of 2 is 2116\n",
            "47 to the power of 2 is 2209\n",
            "48 to the power of 2 is 2304\n",
            "49 to the power of 2 is 2401\n",
            "50 to the power of 2 is 2500\n",
            "51 to the power of 2 is 2601\n",
            "52 to the power of 2 is 2704\n",
            "53 to the power of 2 is 2809\n",
            "54 to the power of 2 is 2916\n",
            "55 to the power of 2 is 3025\n",
            "56 to the power of 2 is 3136\n",
            "57 to the power of 2 is 3249\n",
            "58 to the power of 2 is 3364\n",
            "59 to the power of 2 is 3481\n",
            "60 to the power of 2 is 3600\n",
            "61 to the power of 2 is 3721\n",
            "62 to the power of 2 is 3844\n",
            "63 to the power of 2 is 3969\n",
            "64 to the power of 2 is 4096\n",
            "65 to the power of 2 is 4225\n",
            "66 to the power of 2 is 4356\n",
            "67 to the power of 2 is 4489\n",
            "68 to the power of 2 is 4624\n",
            "69 to the power of 2 is 4761\n",
            "70 to the power of 2 is 4900\n",
            "71 to the power of 2 is 5041\n",
            "72 to the power of 2 is 5184\n",
            "73 to the power of 2 is 5329\n",
            "74 to the power of 2 is 5476\n",
            "75 to the power of 2 is 5625\n",
            "76 to the power of 2 is 5776\n",
            "77 to the power of 2 is 5929\n",
            "78 to the power of 2 is 6084\n",
            "79 to the power of 2 is 6241\n",
            "80 to the power of 2 is 6400\n",
            "81 to the power of 2 is 6561\n",
            "82 to the power of 2 is 6724\n",
            "83 to the power of 2 is 6889\n",
            "84 to the power of 2 is 7056\n",
            "85 to the power of 2 is 7225\n",
            "86 to the power of 2 is 7396\n",
            "87 to the power of 2 is 7569\n",
            "88 to the power of 2 is 7744\n",
            "89 to the power of 2 is 7921\n",
            "90 to the power of 2 is 8100\n",
            "91 to the power of 2 is 8281\n",
            "92 to the power of 2 is 8464\n",
            "93 to the power of 2 is 8649\n",
            "94 to the power of 2 is 8836\n",
            "95 to the power of 2 is 9025\n",
            "96 to the power of 2 is 9216\n",
            "97 to the power of 2 is 9409\n",
            "98 to the power of 2 is 9604\n",
            "99 to the power of 2 is 9801\n",
            "100 to the power of 2 is 10000\n"
          ]
        }
      ]
    },
    {
      "cell_type": "code",
      "source": [
        "import numpy as np\n",
        "\n"
      ],
      "metadata": {
        "id": "9Us8aIN3QU6P"
      },
      "execution_count": null,
      "outputs": []
    },
    {
      "cell_type": "code",
      "source": [
        "a = list(np.random.randint(1, 100, 1000000))"
      ],
      "metadata": {
        "id": "SJS2cKDCSeUY"
      },
      "execution_count": null,
      "outputs": []
    },
    {
      "cell_type": "code",
      "source": [
        "len(a)"
      ],
      "metadata": {
        "colab": {
          "base_uri": "https://localhost:8080/"
        },
        "id": "sN-BV45sStIw",
        "outputId": "a1beaefc-7946-43f2-832a-8f9060e4d037"
      },
      "execution_count": null,
      "outputs": [
        {
          "output_type": "execute_result",
          "data": {
            "text/plain": [
              "1000000"
            ]
          },
          "metadata": {},
          "execution_count": 78
        }
      ]
    },
    {
      "cell_type": "code",
      "source": [],
      "metadata": {
        "id": "75_G3x23TRXa"
      },
      "execution_count": null,
      "outputs": []
    }
  ]
}